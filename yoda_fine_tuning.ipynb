{
  "nbformat": 4,
  "nbformat_minor": 0,
  "metadata": {
    "colab": {
      "provenance": [],
      "gpuType": "T4"
    },
    "kernelspec": {
      "name": "python3",
      "display_name": "Python 3"
    },
    "language_info": {
      "name": "python"
    },
    "accelerator": "GPU",
    "widgets": {
      "application/vnd.jupyter.widget-state+json": {
        "ebcbbb0bf994482e9a139b48308ae8c4": {
          "model_module": "@jupyter-widgets/controls",
          "model_name": "HBoxModel",
          "model_module_version": "1.5.0",
          "state": {
            "_dom_classes": [],
            "_model_module": "@jupyter-widgets/controls",
            "_model_module_version": "1.5.0",
            "_model_name": "HBoxModel",
            "_view_count": null,
            "_view_module": "@jupyter-widgets/controls",
            "_view_module_version": "1.5.0",
            "_view_name": "HBoxView",
            "box_style": "",
            "children": [
              "IPY_MODEL_aaaf97d0cac54f63bcaeb1641bf5d7a3",
              "IPY_MODEL_fdf60a71666649cc8ff787e2060b66ea",
              "IPY_MODEL_fa125e2987f84382b33a8e5b68547e9b"
            ],
            "layout": "IPY_MODEL_a2c665e70b4f4235b141e69f07abae48"
          }
        },
        "aaaf97d0cac54f63bcaeb1641bf5d7a3": {
          "model_module": "@jupyter-widgets/controls",
          "model_name": "HTMLModel",
          "model_module_version": "1.5.0",
          "state": {
            "_dom_classes": [],
            "_model_module": "@jupyter-widgets/controls",
            "_model_module_version": "1.5.0",
            "_model_name": "HTMLModel",
            "_view_count": null,
            "_view_module": "@jupyter-widgets/controls",
            "_view_module_version": "1.5.0",
            "_view_name": "HTMLView",
            "description": "",
            "description_tooltip": null,
            "layout": "IPY_MODEL_b1e6ae22ae2f458ba0d720f8f770f15a",
            "placeholder": "​",
            "style": "IPY_MODEL_b3d17daa31a04f669c8901961887fded",
            "value": "Downloading (…)lve/main/config.json: 100%"
          }
        },
        "fdf60a71666649cc8ff787e2060b66ea": {
          "model_module": "@jupyter-widgets/controls",
          "model_name": "FloatProgressModel",
          "model_module_version": "1.5.0",
          "state": {
            "_dom_classes": [],
            "_model_module": "@jupyter-widgets/controls",
            "_model_module_version": "1.5.0",
            "_model_name": "FloatProgressModel",
            "_view_count": null,
            "_view_module": "@jupyter-widgets/controls",
            "_view_module_version": "1.5.0",
            "_view_name": "ProgressView",
            "bar_style": "success",
            "description": "",
            "description_tooltip": null,
            "layout": "IPY_MODEL_cb369e4fa8684a85b949a426f417abf8",
            "max": 1208,
            "min": 0,
            "orientation": "horizontal",
            "style": "IPY_MODEL_ff25dc25ad3446f3b84d858ba0c065ed",
            "value": 1208
          }
        },
        "fa125e2987f84382b33a8e5b68547e9b": {
          "model_module": "@jupyter-widgets/controls",
          "model_name": "HTMLModel",
          "model_module_version": "1.5.0",
          "state": {
            "_dom_classes": [],
            "_model_module": "@jupyter-widgets/controls",
            "_model_module_version": "1.5.0",
            "_model_name": "HTMLModel",
            "_view_count": null,
            "_view_module": "@jupyter-widgets/controls",
            "_view_module_version": "1.5.0",
            "_view_name": "HTMLView",
            "description": "",
            "description_tooltip": null,
            "layout": "IPY_MODEL_0cbac3f213b94ae9b6d08237fe7554c0",
            "placeholder": "​",
            "style": "IPY_MODEL_a3d218902f1e46e898939fb9ca870be7",
            "value": " 1.21k/1.21k [00:00&lt;00:00, 56.9kB/s]"
          }
        },
        "a2c665e70b4f4235b141e69f07abae48": {
          "model_module": "@jupyter-widgets/base",
          "model_name": "LayoutModel",
          "model_module_version": "1.2.0",
          "state": {
            "_model_module": "@jupyter-widgets/base",
            "_model_module_version": "1.2.0",
            "_model_name": "LayoutModel",
            "_view_count": null,
            "_view_module": "@jupyter-widgets/base",
            "_view_module_version": "1.2.0",
            "_view_name": "LayoutView",
            "align_content": null,
            "align_items": null,
            "align_self": null,
            "border": null,
            "bottom": null,
            "display": null,
            "flex": null,
            "flex_flow": null,
            "grid_area": null,
            "grid_auto_columns": null,
            "grid_auto_flow": null,
            "grid_auto_rows": null,
            "grid_column": null,
            "grid_gap": null,
            "grid_row": null,
            "grid_template_areas": null,
            "grid_template_columns": null,
            "grid_template_rows": null,
            "height": null,
            "justify_content": null,
            "justify_items": null,
            "left": null,
            "margin": null,
            "max_height": null,
            "max_width": null,
            "min_height": null,
            "min_width": null,
            "object_fit": null,
            "object_position": null,
            "order": null,
            "overflow": null,
            "overflow_x": null,
            "overflow_y": null,
            "padding": null,
            "right": null,
            "top": null,
            "visibility": null,
            "width": null
          }
        },
        "b1e6ae22ae2f458ba0d720f8f770f15a": {
          "model_module": "@jupyter-widgets/base",
          "model_name": "LayoutModel",
          "model_module_version": "1.2.0",
          "state": {
            "_model_module": "@jupyter-widgets/base",
            "_model_module_version": "1.2.0",
            "_model_name": "LayoutModel",
            "_view_count": null,
            "_view_module": "@jupyter-widgets/base",
            "_view_module_version": "1.2.0",
            "_view_name": "LayoutView",
            "align_content": null,
            "align_items": null,
            "align_self": null,
            "border": null,
            "bottom": null,
            "display": null,
            "flex": null,
            "flex_flow": null,
            "grid_area": null,
            "grid_auto_columns": null,
            "grid_auto_flow": null,
            "grid_auto_rows": null,
            "grid_column": null,
            "grid_gap": null,
            "grid_row": null,
            "grid_template_areas": null,
            "grid_template_columns": null,
            "grid_template_rows": null,
            "height": null,
            "justify_content": null,
            "justify_items": null,
            "left": null,
            "margin": null,
            "max_height": null,
            "max_width": null,
            "min_height": null,
            "min_width": null,
            "object_fit": null,
            "object_position": null,
            "order": null,
            "overflow": null,
            "overflow_x": null,
            "overflow_y": null,
            "padding": null,
            "right": null,
            "top": null,
            "visibility": null,
            "width": null
          }
        },
        "b3d17daa31a04f669c8901961887fded": {
          "model_module": "@jupyter-widgets/controls",
          "model_name": "DescriptionStyleModel",
          "model_module_version": "1.5.0",
          "state": {
            "_model_module": "@jupyter-widgets/controls",
            "_model_module_version": "1.5.0",
            "_model_name": "DescriptionStyleModel",
            "_view_count": null,
            "_view_module": "@jupyter-widgets/base",
            "_view_module_version": "1.2.0",
            "_view_name": "StyleView",
            "description_width": ""
          }
        },
        "cb369e4fa8684a85b949a426f417abf8": {
          "model_module": "@jupyter-widgets/base",
          "model_name": "LayoutModel",
          "model_module_version": "1.2.0",
          "state": {
            "_model_module": "@jupyter-widgets/base",
            "_model_module_version": "1.2.0",
            "_model_name": "LayoutModel",
            "_view_count": null,
            "_view_module": "@jupyter-widgets/base",
            "_view_module_version": "1.2.0",
            "_view_name": "LayoutView",
            "align_content": null,
            "align_items": null,
            "align_self": null,
            "border": null,
            "bottom": null,
            "display": null,
            "flex": null,
            "flex_flow": null,
            "grid_area": null,
            "grid_auto_columns": null,
            "grid_auto_flow": null,
            "grid_auto_rows": null,
            "grid_column": null,
            "grid_gap": null,
            "grid_row": null,
            "grid_template_areas": null,
            "grid_template_columns": null,
            "grid_template_rows": null,
            "height": null,
            "justify_content": null,
            "justify_items": null,
            "left": null,
            "margin": null,
            "max_height": null,
            "max_width": null,
            "min_height": null,
            "min_width": null,
            "object_fit": null,
            "object_position": null,
            "order": null,
            "overflow": null,
            "overflow_x": null,
            "overflow_y": null,
            "padding": null,
            "right": null,
            "top": null,
            "visibility": null,
            "width": null
          }
        },
        "ff25dc25ad3446f3b84d858ba0c065ed": {
          "model_module": "@jupyter-widgets/controls",
          "model_name": "ProgressStyleModel",
          "model_module_version": "1.5.0",
          "state": {
            "_model_module": "@jupyter-widgets/controls",
            "_model_module_version": "1.5.0",
            "_model_name": "ProgressStyleModel",
            "_view_count": null,
            "_view_module": "@jupyter-widgets/base",
            "_view_module_version": "1.2.0",
            "_view_name": "StyleView",
            "bar_color": null,
            "description_width": ""
          }
        },
        "0cbac3f213b94ae9b6d08237fe7554c0": {
          "model_module": "@jupyter-widgets/base",
          "model_name": "LayoutModel",
          "model_module_version": "1.2.0",
          "state": {
            "_model_module": "@jupyter-widgets/base",
            "_model_module_version": "1.2.0",
            "_model_name": "LayoutModel",
            "_view_count": null,
            "_view_module": "@jupyter-widgets/base",
            "_view_module_version": "1.2.0",
            "_view_name": "LayoutView",
            "align_content": null,
            "align_items": null,
            "align_self": null,
            "border": null,
            "bottom": null,
            "display": null,
            "flex": null,
            "flex_flow": null,
            "grid_area": null,
            "grid_auto_columns": null,
            "grid_auto_flow": null,
            "grid_auto_rows": null,
            "grid_column": null,
            "grid_gap": null,
            "grid_row": null,
            "grid_template_areas": null,
            "grid_template_columns": null,
            "grid_template_rows": null,
            "height": null,
            "justify_content": null,
            "justify_items": null,
            "left": null,
            "margin": null,
            "max_height": null,
            "max_width": null,
            "min_height": null,
            "min_width": null,
            "object_fit": null,
            "object_position": null,
            "order": null,
            "overflow": null,
            "overflow_x": null,
            "overflow_y": null,
            "padding": null,
            "right": null,
            "top": null,
            "visibility": null,
            "width": null
          }
        },
        "a3d218902f1e46e898939fb9ca870be7": {
          "model_module": "@jupyter-widgets/controls",
          "model_name": "DescriptionStyleModel",
          "model_module_version": "1.5.0",
          "state": {
            "_model_module": "@jupyter-widgets/controls",
            "_model_module_version": "1.5.0",
            "_model_name": "DescriptionStyleModel",
            "_view_count": null,
            "_view_module": "@jupyter-widgets/base",
            "_view_module_version": "1.2.0",
            "_view_name": "StyleView",
            "description_width": ""
          }
        },
        "efca02f4d9c64b8aa4805ba7ae73fd4d": {
          "model_module": "@jupyter-widgets/controls",
          "model_name": "HBoxModel",
          "model_module_version": "1.5.0",
          "state": {
            "_dom_classes": [],
            "_model_module": "@jupyter-widgets/controls",
            "_model_module_version": "1.5.0",
            "_model_name": "HBoxModel",
            "_view_count": null,
            "_view_module": "@jupyter-widgets/controls",
            "_view_module_version": "1.5.0",
            "_view_name": "HBoxView",
            "box_style": "",
            "children": [
              "IPY_MODEL_f4667dddd4c2446084930600ef3806e9",
              "IPY_MODEL_d54e29e5ef5d43f8af9104dfe66a1dc4",
              "IPY_MODEL_26a97ab3c2c2498f83066f58f550e165"
            ],
            "layout": "IPY_MODEL_6ba06e3a160b4cb6ab5ceb897f51bb2d"
          }
        },
        "f4667dddd4c2446084930600ef3806e9": {
          "model_module": "@jupyter-widgets/controls",
          "model_name": "HTMLModel",
          "model_module_version": "1.5.0",
          "state": {
            "_dom_classes": [],
            "_model_module": "@jupyter-widgets/controls",
            "_model_module_version": "1.5.0",
            "_model_name": "HTMLModel",
            "_view_count": null,
            "_view_module": "@jupyter-widgets/controls",
            "_view_module_version": "1.5.0",
            "_view_name": "HTMLView",
            "description": "",
            "description_tooltip": null,
            "layout": "IPY_MODEL_bf985d097cb4405c9352b3acfdcdcbb3",
            "placeholder": "​",
            "style": "IPY_MODEL_d05bdfef1d754ec7ac806aaf45831a69",
            "value": "Downloading (…)ve/main/spiece.model: 100%"
          }
        },
        "d54e29e5ef5d43f8af9104dfe66a1dc4": {
          "model_module": "@jupyter-widgets/controls",
          "model_name": "FloatProgressModel",
          "model_module_version": "1.5.0",
          "state": {
            "_dom_classes": [],
            "_model_module": "@jupyter-widgets/controls",
            "_model_module_version": "1.5.0",
            "_model_name": "FloatProgressModel",
            "_view_count": null,
            "_view_module": "@jupyter-widgets/controls",
            "_view_module_version": "1.5.0",
            "_view_name": "ProgressView",
            "bar_style": "success",
            "description": "",
            "description_tooltip": null,
            "layout": "IPY_MODEL_f70b1f60a27a4fddaee114fee2f28472",
            "max": 791656,
            "min": 0,
            "orientation": "horizontal",
            "style": "IPY_MODEL_79c7f84565b749afaf7763f1510ddb42",
            "value": 791656
          }
        },
        "26a97ab3c2c2498f83066f58f550e165": {
          "model_module": "@jupyter-widgets/controls",
          "model_name": "HTMLModel",
          "model_module_version": "1.5.0",
          "state": {
            "_dom_classes": [],
            "_model_module": "@jupyter-widgets/controls",
            "_model_module_version": "1.5.0",
            "_model_name": "HTMLModel",
            "_view_count": null,
            "_view_module": "@jupyter-widgets/controls",
            "_view_module_version": "1.5.0",
            "_view_name": "HTMLView",
            "description": "",
            "description_tooltip": null,
            "layout": "IPY_MODEL_3a5ced765ab345a0a8639faf560e20ac",
            "placeholder": "​",
            "style": "IPY_MODEL_e1d112f18fbe4a0fa070d8b8261cd960",
            "value": " 792k/792k [00:00&lt;00:00, 1.25MB/s]"
          }
        },
        "6ba06e3a160b4cb6ab5ceb897f51bb2d": {
          "model_module": "@jupyter-widgets/base",
          "model_name": "LayoutModel",
          "model_module_version": "1.2.0",
          "state": {
            "_model_module": "@jupyter-widgets/base",
            "_model_module_version": "1.2.0",
            "_model_name": "LayoutModel",
            "_view_count": null,
            "_view_module": "@jupyter-widgets/base",
            "_view_module_version": "1.2.0",
            "_view_name": "LayoutView",
            "align_content": null,
            "align_items": null,
            "align_self": null,
            "border": null,
            "bottom": null,
            "display": null,
            "flex": null,
            "flex_flow": null,
            "grid_area": null,
            "grid_auto_columns": null,
            "grid_auto_flow": null,
            "grid_auto_rows": null,
            "grid_column": null,
            "grid_gap": null,
            "grid_row": null,
            "grid_template_areas": null,
            "grid_template_columns": null,
            "grid_template_rows": null,
            "height": null,
            "justify_content": null,
            "justify_items": null,
            "left": null,
            "margin": null,
            "max_height": null,
            "max_width": null,
            "min_height": null,
            "min_width": null,
            "object_fit": null,
            "object_position": null,
            "order": null,
            "overflow": null,
            "overflow_x": null,
            "overflow_y": null,
            "padding": null,
            "right": null,
            "top": null,
            "visibility": null,
            "width": null
          }
        },
        "bf985d097cb4405c9352b3acfdcdcbb3": {
          "model_module": "@jupyter-widgets/base",
          "model_name": "LayoutModel",
          "model_module_version": "1.2.0",
          "state": {
            "_model_module": "@jupyter-widgets/base",
            "_model_module_version": "1.2.0",
            "_model_name": "LayoutModel",
            "_view_count": null,
            "_view_module": "@jupyter-widgets/base",
            "_view_module_version": "1.2.0",
            "_view_name": "LayoutView",
            "align_content": null,
            "align_items": null,
            "align_self": null,
            "border": null,
            "bottom": null,
            "display": null,
            "flex": null,
            "flex_flow": null,
            "grid_area": null,
            "grid_auto_columns": null,
            "grid_auto_flow": null,
            "grid_auto_rows": null,
            "grid_column": null,
            "grid_gap": null,
            "grid_row": null,
            "grid_template_areas": null,
            "grid_template_columns": null,
            "grid_template_rows": null,
            "height": null,
            "justify_content": null,
            "justify_items": null,
            "left": null,
            "margin": null,
            "max_height": null,
            "max_width": null,
            "min_height": null,
            "min_width": null,
            "object_fit": null,
            "object_position": null,
            "order": null,
            "overflow": null,
            "overflow_x": null,
            "overflow_y": null,
            "padding": null,
            "right": null,
            "top": null,
            "visibility": null,
            "width": null
          }
        },
        "d05bdfef1d754ec7ac806aaf45831a69": {
          "model_module": "@jupyter-widgets/controls",
          "model_name": "DescriptionStyleModel",
          "model_module_version": "1.5.0",
          "state": {
            "_model_module": "@jupyter-widgets/controls",
            "_model_module_version": "1.5.0",
            "_model_name": "DescriptionStyleModel",
            "_view_count": null,
            "_view_module": "@jupyter-widgets/base",
            "_view_module_version": "1.2.0",
            "_view_name": "StyleView",
            "description_width": ""
          }
        },
        "f70b1f60a27a4fddaee114fee2f28472": {
          "model_module": "@jupyter-widgets/base",
          "model_name": "LayoutModel",
          "model_module_version": "1.2.0",
          "state": {
            "_model_module": "@jupyter-widgets/base",
            "_model_module_version": "1.2.0",
            "_model_name": "LayoutModel",
            "_view_count": null,
            "_view_module": "@jupyter-widgets/base",
            "_view_module_version": "1.2.0",
            "_view_name": "LayoutView",
            "align_content": null,
            "align_items": null,
            "align_self": null,
            "border": null,
            "bottom": null,
            "display": null,
            "flex": null,
            "flex_flow": null,
            "grid_area": null,
            "grid_auto_columns": null,
            "grid_auto_flow": null,
            "grid_auto_rows": null,
            "grid_column": null,
            "grid_gap": null,
            "grid_row": null,
            "grid_template_areas": null,
            "grid_template_columns": null,
            "grid_template_rows": null,
            "height": null,
            "justify_content": null,
            "justify_items": null,
            "left": null,
            "margin": null,
            "max_height": null,
            "max_width": null,
            "min_height": null,
            "min_width": null,
            "object_fit": null,
            "object_position": null,
            "order": null,
            "overflow": null,
            "overflow_x": null,
            "overflow_y": null,
            "padding": null,
            "right": null,
            "top": null,
            "visibility": null,
            "width": null
          }
        },
        "79c7f84565b749afaf7763f1510ddb42": {
          "model_module": "@jupyter-widgets/controls",
          "model_name": "ProgressStyleModel",
          "model_module_version": "1.5.0",
          "state": {
            "_model_module": "@jupyter-widgets/controls",
            "_model_module_version": "1.5.0",
            "_model_name": "ProgressStyleModel",
            "_view_count": null,
            "_view_module": "@jupyter-widgets/base",
            "_view_module_version": "1.2.0",
            "_view_name": "StyleView",
            "bar_color": null,
            "description_width": ""
          }
        },
        "3a5ced765ab345a0a8639faf560e20ac": {
          "model_module": "@jupyter-widgets/base",
          "model_name": "LayoutModel",
          "model_module_version": "1.2.0",
          "state": {
            "_model_module": "@jupyter-widgets/base",
            "_model_module_version": "1.2.0",
            "_model_name": "LayoutModel",
            "_view_count": null,
            "_view_module": "@jupyter-widgets/base",
            "_view_module_version": "1.2.0",
            "_view_name": "LayoutView",
            "align_content": null,
            "align_items": null,
            "align_self": null,
            "border": null,
            "bottom": null,
            "display": null,
            "flex": null,
            "flex_flow": null,
            "grid_area": null,
            "grid_auto_columns": null,
            "grid_auto_flow": null,
            "grid_auto_rows": null,
            "grid_column": null,
            "grid_gap": null,
            "grid_row": null,
            "grid_template_areas": null,
            "grid_template_columns": null,
            "grid_template_rows": null,
            "height": null,
            "justify_content": null,
            "justify_items": null,
            "left": null,
            "margin": null,
            "max_height": null,
            "max_width": null,
            "min_height": null,
            "min_width": null,
            "object_fit": null,
            "object_position": null,
            "order": null,
            "overflow": null,
            "overflow_x": null,
            "overflow_y": null,
            "padding": null,
            "right": null,
            "top": null,
            "visibility": null,
            "width": null
          }
        },
        "e1d112f18fbe4a0fa070d8b8261cd960": {
          "model_module": "@jupyter-widgets/controls",
          "model_name": "DescriptionStyleModel",
          "model_module_version": "1.5.0",
          "state": {
            "_model_module": "@jupyter-widgets/controls",
            "_model_module_version": "1.5.0",
            "_model_name": "DescriptionStyleModel",
            "_view_count": null,
            "_view_module": "@jupyter-widgets/base",
            "_view_module_version": "1.2.0",
            "_view_name": "StyleView",
            "description_width": ""
          }
        },
        "eced625e68004cd19e6cf08c9186ea4d": {
          "model_module": "@jupyter-widgets/controls",
          "model_name": "HBoxModel",
          "model_module_version": "1.5.0",
          "state": {
            "_dom_classes": [],
            "_model_module": "@jupyter-widgets/controls",
            "_model_module_version": "1.5.0",
            "_model_name": "HBoxModel",
            "_view_count": null,
            "_view_module": "@jupyter-widgets/controls",
            "_view_module_version": "1.5.0",
            "_view_name": "HBoxView",
            "box_style": "",
            "children": [
              "IPY_MODEL_21e5a50d9e824cc4ac3855890b717fdb",
              "IPY_MODEL_499365117550467683d94db7689049b7",
              "IPY_MODEL_7e8783236b044db288c50ed707977099"
            ],
            "layout": "IPY_MODEL_f1344a59db214e63bb994d8e9c663ea7"
          }
        },
        "21e5a50d9e824cc4ac3855890b717fdb": {
          "model_module": "@jupyter-widgets/controls",
          "model_name": "HTMLModel",
          "model_module_version": "1.5.0",
          "state": {
            "_dom_classes": [],
            "_model_module": "@jupyter-widgets/controls",
            "_model_module_version": "1.5.0",
            "_model_name": "HTMLModel",
            "_view_count": null,
            "_view_module": "@jupyter-widgets/controls",
            "_view_module_version": "1.5.0",
            "_view_name": "HTMLView",
            "description": "",
            "description_tooltip": null,
            "layout": "IPY_MODEL_0fd446ece5cf4c91a766ab5079400d61",
            "placeholder": "​",
            "style": "IPY_MODEL_2a4f44f8832644168f53dce7b98ac51f",
            "value": "Downloading (…)/main/tokenizer.json: 100%"
          }
        },
        "499365117550467683d94db7689049b7": {
          "model_module": "@jupyter-widgets/controls",
          "model_name": "FloatProgressModel",
          "model_module_version": "1.5.0",
          "state": {
            "_dom_classes": [],
            "_model_module": "@jupyter-widgets/controls",
            "_model_module_version": "1.5.0",
            "_model_name": "FloatProgressModel",
            "_view_count": null,
            "_view_module": "@jupyter-widgets/controls",
            "_view_module_version": "1.5.0",
            "_view_name": "ProgressView",
            "bar_style": "success",
            "description": "",
            "description_tooltip": null,
            "layout": "IPY_MODEL_492bc9dac86a4145b1adcaaa8fb72209",
            "max": 1389353,
            "min": 0,
            "orientation": "horizontal",
            "style": "IPY_MODEL_d6ae2f7a2cd9455da4e5eaf9ae556595",
            "value": 1389353
          }
        },
        "7e8783236b044db288c50ed707977099": {
          "model_module": "@jupyter-widgets/controls",
          "model_name": "HTMLModel",
          "model_module_version": "1.5.0",
          "state": {
            "_dom_classes": [],
            "_model_module": "@jupyter-widgets/controls",
            "_model_module_version": "1.5.0",
            "_model_name": "HTMLModel",
            "_view_count": null,
            "_view_module": "@jupyter-widgets/controls",
            "_view_module_version": "1.5.0",
            "_view_name": "HTMLView",
            "description": "",
            "description_tooltip": null,
            "layout": "IPY_MODEL_096e5e478f7948e89bf7cbecd4973a20",
            "placeholder": "​",
            "style": "IPY_MODEL_ca09d7f5dde74c72abc7333e11ef956e",
            "value": " 1.39M/1.39M [00:00&lt;00:00, 2.18MB/s]"
          }
        },
        "f1344a59db214e63bb994d8e9c663ea7": {
          "model_module": "@jupyter-widgets/base",
          "model_name": "LayoutModel",
          "model_module_version": "1.2.0",
          "state": {
            "_model_module": "@jupyter-widgets/base",
            "_model_module_version": "1.2.0",
            "_model_name": "LayoutModel",
            "_view_count": null,
            "_view_module": "@jupyter-widgets/base",
            "_view_module_version": "1.2.0",
            "_view_name": "LayoutView",
            "align_content": null,
            "align_items": null,
            "align_self": null,
            "border": null,
            "bottom": null,
            "display": null,
            "flex": null,
            "flex_flow": null,
            "grid_area": null,
            "grid_auto_columns": null,
            "grid_auto_flow": null,
            "grid_auto_rows": null,
            "grid_column": null,
            "grid_gap": null,
            "grid_row": null,
            "grid_template_areas": null,
            "grid_template_columns": null,
            "grid_template_rows": null,
            "height": null,
            "justify_content": null,
            "justify_items": null,
            "left": null,
            "margin": null,
            "max_height": null,
            "max_width": null,
            "min_height": null,
            "min_width": null,
            "object_fit": null,
            "object_position": null,
            "order": null,
            "overflow": null,
            "overflow_x": null,
            "overflow_y": null,
            "padding": null,
            "right": null,
            "top": null,
            "visibility": null,
            "width": null
          }
        },
        "0fd446ece5cf4c91a766ab5079400d61": {
          "model_module": "@jupyter-widgets/base",
          "model_name": "LayoutModel",
          "model_module_version": "1.2.0",
          "state": {
            "_model_module": "@jupyter-widgets/base",
            "_model_module_version": "1.2.0",
            "_model_name": "LayoutModel",
            "_view_count": null,
            "_view_module": "@jupyter-widgets/base",
            "_view_module_version": "1.2.0",
            "_view_name": "LayoutView",
            "align_content": null,
            "align_items": null,
            "align_self": null,
            "border": null,
            "bottom": null,
            "display": null,
            "flex": null,
            "flex_flow": null,
            "grid_area": null,
            "grid_auto_columns": null,
            "grid_auto_flow": null,
            "grid_auto_rows": null,
            "grid_column": null,
            "grid_gap": null,
            "grid_row": null,
            "grid_template_areas": null,
            "grid_template_columns": null,
            "grid_template_rows": null,
            "height": null,
            "justify_content": null,
            "justify_items": null,
            "left": null,
            "margin": null,
            "max_height": null,
            "max_width": null,
            "min_height": null,
            "min_width": null,
            "object_fit": null,
            "object_position": null,
            "order": null,
            "overflow": null,
            "overflow_x": null,
            "overflow_y": null,
            "padding": null,
            "right": null,
            "top": null,
            "visibility": null,
            "width": null
          }
        },
        "2a4f44f8832644168f53dce7b98ac51f": {
          "model_module": "@jupyter-widgets/controls",
          "model_name": "DescriptionStyleModel",
          "model_module_version": "1.5.0",
          "state": {
            "_model_module": "@jupyter-widgets/controls",
            "_model_module_version": "1.5.0",
            "_model_name": "DescriptionStyleModel",
            "_view_count": null,
            "_view_module": "@jupyter-widgets/base",
            "_view_module_version": "1.2.0",
            "_view_name": "StyleView",
            "description_width": ""
          }
        },
        "492bc9dac86a4145b1adcaaa8fb72209": {
          "model_module": "@jupyter-widgets/base",
          "model_name": "LayoutModel",
          "model_module_version": "1.2.0",
          "state": {
            "_model_module": "@jupyter-widgets/base",
            "_model_module_version": "1.2.0",
            "_model_name": "LayoutModel",
            "_view_count": null,
            "_view_module": "@jupyter-widgets/base",
            "_view_module_version": "1.2.0",
            "_view_name": "LayoutView",
            "align_content": null,
            "align_items": null,
            "align_self": null,
            "border": null,
            "bottom": null,
            "display": null,
            "flex": null,
            "flex_flow": null,
            "grid_area": null,
            "grid_auto_columns": null,
            "grid_auto_flow": null,
            "grid_auto_rows": null,
            "grid_column": null,
            "grid_gap": null,
            "grid_row": null,
            "grid_template_areas": null,
            "grid_template_columns": null,
            "grid_template_rows": null,
            "height": null,
            "justify_content": null,
            "justify_items": null,
            "left": null,
            "margin": null,
            "max_height": null,
            "max_width": null,
            "min_height": null,
            "min_width": null,
            "object_fit": null,
            "object_position": null,
            "order": null,
            "overflow": null,
            "overflow_x": null,
            "overflow_y": null,
            "padding": null,
            "right": null,
            "top": null,
            "visibility": null,
            "width": null
          }
        },
        "d6ae2f7a2cd9455da4e5eaf9ae556595": {
          "model_module": "@jupyter-widgets/controls",
          "model_name": "ProgressStyleModel",
          "model_module_version": "1.5.0",
          "state": {
            "_model_module": "@jupyter-widgets/controls",
            "_model_module_version": "1.5.0",
            "_model_name": "ProgressStyleModel",
            "_view_count": null,
            "_view_module": "@jupyter-widgets/base",
            "_view_module_version": "1.2.0",
            "_view_name": "StyleView",
            "bar_color": null,
            "description_width": ""
          }
        },
        "096e5e478f7948e89bf7cbecd4973a20": {
          "model_module": "@jupyter-widgets/base",
          "model_name": "LayoutModel",
          "model_module_version": "1.2.0",
          "state": {
            "_model_module": "@jupyter-widgets/base",
            "_model_module_version": "1.2.0",
            "_model_name": "LayoutModel",
            "_view_count": null,
            "_view_module": "@jupyter-widgets/base",
            "_view_module_version": "1.2.0",
            "_view_name": "LayoutView",
            "align_content": null,
            "align_items": null,
            "align_self": null,
            "border": null,
            "bottom": null,
            "display": null,
            "flex": null,
            "flex_flow": null,
            "grid_area": null,
            "grid_auto_columns": null,
            "grid_auto_flow": null,
            "grid_auto_rows": null,
            "grid_column": null,
            "grid_gap": null,
            "grid_row": null,
            "grid_template_areas": null,
            "grid_template_columns": null,
            "grid_template_rows": null,
            "height": null,
            "justify_content": null,
            "justify_items": null,
            "left": null,
            "margin": null,
            "max_height": null,
            "max_width": null,
            "min_height": null,
            "min_width": null,
            "object_fit": null,
            "object_position": null,
            "order": null,
            "overflow": null,
            "overflow_x": null,
            "overflow_y": null,
            "padding": null,
            "right": null,
            "top": null,
            "visibility": null,
            "width": null
          }
        },
        "ca09d7f5dde74c72abc7333e11ef956e": {
          "model_module": "@jupyter-widgets/controls",
          "model_name": "DescriptionStyleModel",
          "model_module_version": "1.5.0",
          "state": {
            "_model_module": "@jupyter-widgets/controls",
            "_model_module_version": "1.5.0",
            "_model_name": "DescriptionStyleModel",
            "_view_count": null,
            "_view_module": "@jupyter-widgets/base",
            "_view_module_version": "1.2.0",
            "_view_name": "StyleView",
            "description_width": ""
          }
        },
        "7c79713143c0484b9720bcb3f00df6dc": {
          "model_module": "@jupyter-widgets/controls",
          "model_name": "HBoxModel",
          "model_module_version": "1.5.0",
          "state": {
            "_dom_classes": [],
            "_model_module": "@jupyter-widgets/controls",
            "_model_module_version": "1.5.0",
            "_model_name": "HBoxModel",
            "_view_count": null,
            "_view_module": "@jupyter-widgets/controls",
            "_view_module_version": "1.5.0",
            "_view_name": "HBoxView",
            "box_style": "",
            "children": [
              "IPY_MODEL_7a3a10abb61c48a69ad365f605496478",
              "IPY_MODEL_7772ec6231eb4e1a84933f77ab3b73ee",
              "IPY_MODEL_ddc5d15d5713409fba2046d07d229029"
            ],
            "layout": "IPY_MODEL_f16d5c6430ee4a388d162ee148dfd5b5"
          }
        },
        "7a3a10abb61c48a69ad365f605496478": {
          "model_module": "@jupyter-widgets/controls",
          "model_name": "HTMLModel",
          "model_module_version": "1.5.0",
          "state": {
            "_dom_classes": [],
            "_model_module": "@jupyter-widgets/controls",
            "_model_module_version": "1.5.0",
            "_model_name": "HTMLModel",
            "_view_count": null,
            "_view_module": "@jupyter-widgets/controls",
            "_view_module_version": "1.5.0",
            "_view_name": "HTMLView",
            "description": "",
            "description_tooltip": null,
            "layout": "IPY_MODEL_93d26c28542747889fd43cbece78c0c1",
            "placeholder": "​",
            "style": "IPY_MODEL_aa2f809fc922400d86cc28cdaf5ca5e3",
            "value": "Downloading pytorch_model.bin: 100%"
          }
        },
        "7772ec6231eb4e1a84933f77ab3b73ee": {
          "model_module": "@jupyter-widgets/controls",
          "model_name": "FloatProgressModel",
          "model_module_version": "1.5.0",
          "state": {
            "_dom_classes": [],
            "_model_module": "@jupyter-widgets/controls",
            "_model_module_version": "1.5.0",
            "_model_name": "FloatProgressModel",
            "_view_count": null,
            "_view_module": "@jupyter-widgets/controls",
            "_view_module_version": "1.5.0",
            "_view_name": "ProgressView",
            "bar_style": "success",
            "description": "",
            "description_tooltip": null,
            "layout": "IPY_MODEL_972189d086514dcebb81cac492fd9587",
            "max": 891691430,
            "min": 0,
            "orientation": "horizontal",
            "style": "IPY_MODEL_6c0002214fd84ad08777f9bb6b207191",
            "value": 891691430
          }
        },
        "ddc5d15d5713409fba2046d07d229029": {
          "model_module": "@jupyter-widgets/controls",
          "model_name": "HTMLModel",
          "model_module_version": "1.5.0",
          "state": {
            "_dom_classes": [],
            "_model_module": "@jupyter-widgets/controls",
            "_model_module_version": "1.5.0",
            "_model_name": "HTMLModel",
            "_view_count": null,
            "_view_module": "@jupyter-widgets/controls",
            "_view_module_version": "1.5.0",
            "_view_name": "HTMLView",
            "description": "",
            "description_tooltip": null,
            "layout": "IPY_MODEL_5457567729eb4ddaa543ed68f16dfbb9",
            "placeholder": "​",
            "style": "IPY_MODEL_5f9703f6783c476b92ed484ddbc15183",
            "value": " 892M/892M [00:06&lt;00:00, 153MB/s]"
          }
        },
        "f16d5c6430ee4a388d162ee148dfd5b5": {
          "model_module": "@jupyter-widgets/base",
          "model_name": "LayoutModel",
          "model_module_version": "1.2.0",
          "state": {
            "_model_module": "@jupyter-widgets/base",
            "_model_module_version": "1.2.0",
            "_model_name": "LayoutModel",
            "_view_count": null,
            "_view_module": "@jupyter-widgets/base",
            "_view_module_version": "1.2.0",
            "_view_name": "LayoutView",
            "align_content": null,
            "align_items": null,
            "align_self": null,
            "border": null,
            "bottom": null,
            "display": null,
            "flex": null,
            "flex_flow": null,
            "grid_area": null,
            "grid_auto_columns": null,
            "grid_auto_flow": null,
            "grid_auto_rows": null,
            "grid_column": null,
            "grid_gap": null,
            "grid_row": null,
            "grid_template_areas": null,
            "grid_template_columns": null,
            "grid_template_rows": null,
            "height": null,
            "justify_content": null,
            "justify_items": null,
            "left": null,
            "margin": null,
            "max_height": null,
            "max_width": null,
            "min_height": null,
            "min_width": null,
            "object_fit": null,
            "object_position": null,
            "order": null,
            "overflow": null,
            "overflow_x": null,
            "overflow_y": null,
            "padding": null,
            "right": null,
            "top": null,
            "visibility": null,
            "width": null
          }
        },
        "93d26c28542747889fd43cbece78c0c1": {
          "model_module": "@jupyter-widgets/base",
          "model_name": "LayoutModel",
          "model_module_version": "1.2.0",
          "state": {
            "_model_module": "@jupyter-widgets/base",
            "_model_module_version": "1.2.0",
            "_model_name": "LayoutModel",
            "_view_count": null,
            "_view_module": "@jupyter-widgets/base",
            "_view_module_version": "1.2.0",
            "_view_name": "LayoutView",
            "align_content": null,
            "align_items": null,
            "align_self": null,
            "border": null,
            "bottom": null,
            "display": null,
            "flex": null,
            "flex_flow": null,
            "grid_area": null,
            "grid_auto_columns": null,
            "grid_auto_flow": null,
            "grid_auto_rows": null,
            "grid_column": null,
            "grid_gap": null,
            "grid_row": null,
            "grid_template_areas": null,
            "grid_template_columns": null,
            "grid_template_rows": null,
            "height": null,
            "justify_content": null,
            "justify_items": null,
            "left": null,
            "margin": null,
            "max_height": null,
            "max_width": null,
            "min_height": null,
            "min_width": null,
            "object_fit": null,
            "object_position": null,
            "order": null,
            "overflow": null,
            "overflow_x": null,
            "overflow_y": null,
            "padding": null,
            "right": null,
            "top": null,
            "visibility": null,
            "width": null
          }
        },
        "aa2f809fc922400d86cc28cdaf5ca5e3": {
          "model_module": "@jupyter-widgets/controls",
          "model_name": "DescriptionStyleModel",
          "model_module_version": "1.5.0",
          "state": {
            "_model_module": "@jupyter-widgets/controls",
            "_model_module_version": "1.5.0",
            "_model_name": "DescriptionStyleModel",
            "_view_count": null,
            "_view_module": "@jupyter-widgets/base",
            "_view_module_version": "1.2.0",
            "_view_name": "StyleView",
            "description_width": ""
          }
        },
        "972189d086514dcebb81cac492fd9587": {
          "model_module": "@jupyter-widgets/base",
          "model_name": "LayoutModel",
          "model_module_version": "1.2.0",
          "state": {
            "_model_module": "@jupyter-widgets/base",
            "_model_module_version": "1.2.0",
            "_model_name": "LayoutModel",
            "_view_count": null,
            "_view_module": "@jupyter-widgets/base",
            "_view_module_version": "1.2.0",
            "_view_name": "LayoutView",
            "align_content": null,
            "align_items": null,
            "align_self": null,
            "border": null,
            "bottom": null,
            "display": null,
            "flex": null,
            "flex_flow": null,
            "grid_area": null,
            "grid_auto_columns": null,
            "grid_auto_flow": null,
            "grid_auto_rows": null,
            "grid_column": null,
            "grid_gap": null,
            "grid_row": null,
            "grid_template_areas": null,
            "grid_template_columns": null,
            "grid_template_rows": null,
            "height": null,
            "justify_content": null,
            "justify_items": null,
            "left": null,
            "margin": null,
            "max_height": null,
            "max_width": null,
            "min_height": null,
            "min_width": null,
            "object_fit": null,
            "object_position": null,
            "order": null,
            "overflow": null,
            "overflow_x": null,
            "overflow_y": null,
            "padding": null,
            "right": null,
            "top": null,
            "visibility": null,
            "width": null
          }
        },
        "6c0002214fd84ad08777f9bb6b207191": {
          "model_module": "@jupyter-widgets/controls",
          "model_name": "ProgressStyleModel",
          "model_module_version": "1.5.0",
          "state": {
            "_model_module": "@jupyter-widgets/controls",
            "_model_module_version": "1.5.0",
            "_model_name": "ProgressStyleModel",
            "_view_count": null,
            "_view_module": "@jupyter-widgets/base",
            "_view_module_version": "1.2.0",
            "_view_name": "StyleView",
            "bar_color": null,
            "description_width": ""
          }
        },
        "5457567729eb4ddaa543ed68f16dfbb9": {
          "model_module": "@jupyter-widgets/base",
          "model_name": "LayoutModel",
          "model_module_version": "1.2.0",
          "state": {
            "_model_module": "@jupyter-widgets/base",
            "_model_module_version": "1.2.0",
            "_model_name": "LayoutModel",
            "_view_count": null,
            "_view_module": "@jupyter-widgets/base",
            "_view_module_version": "1.2.0",
            "_view_name": "LayoutView",
            "align_content": null,
            "align_items": null,
            "align_self": null,
            "border": null,
            "bottom": null,
            "display": null,
            "flex": null,
            "flex_flow": null,
            "grid_area": null,
            "grid_auto_columns": null,
            "grid_auto_flow": null,
            "grid_auto_rows": null,
            "grid_column": null,
            "grid_gap": null,
            "grid_row": null,
            "grid_template_areas": null,
            "grid_template_columns": null,
            "grid_template_rows": null,
            "height": null,
            "justify_content": null,
            "justify_items": null,
            "left": null,
            "margin": null,
            "max_height": null,
            "max_width": null,
            "min_height": null,
            "min_width": null,
            "object_fit": null,
            "object_position": null,
            "order": null,
            "overflow": null,
            "overflow_x": null,
            "overflow_y": null,
            "padding": null,
            "right": null,
            "top": null,
            "visibility": null,
            "width": null
          }
        },
        "5f9703f6783c476b92ed484ddbc15183": {
          "model_module": "@jupyter-widgets/controls",
          "model_name": "DescriptionStyleModel",
          "model_module_version": "1.5.0",
          "state": {
            "_model_module": "@jupyter-widgets/controls",
            "_model_module_version": "1.5.0",
            "_model_name": "DescriptionStyleModel",
            "_view_count": null,
            "_view_module": "@jupyter-widgets/base",
            "_view_module_version": "1.2.0",
            "_view_name": "StyleView",
            "description_width": ""
          }
        },
        "ce8d05e1e0a740e59219e91734d2309b": {
          "model_module": "@jupyter-widgets/controls",
          "model_name": "HBoxModel",
          "model_module_version": "1.5.0",
          "state": {
            "_dom_classes": [],
            "_model_module": "@jupyter-widgets/controls",
            "_model_module_version": "1.5.0",
            "_model_name": "HBoxModel",
            "_view_count": null,
            "_view_module": "@jupyter-widgets/controls",
            "_view_module_version": "1.5.0",
            "_view_name": "HBoxView",
            "box_style": "",
            "children": [
              "IPY_MODEL_199476bc14764e42b79f2333815f0f8b",
              "IPY_MODEL_6c832c9fa36a4b928beac0dda7f708df",
              "IPY_MODEL_ca2c5918618d4c41bd02f1a7b408748c"
            ],
            "layout": "IPY_MODEL_3ed61ecbdac6402d873d6ef54863d019"
          }
        },
        "199476bc14764e42b79f2333815f0f8b": {
          "model_module": "@jupyter-widgets/controls",
          "model_name": "HTMLModel",
          "model_module_version": "1.5.0",
          "state": {
            "_dom_classes": [],
            "_model_module": "@jupyter-widgets/controls",
            "_model_module_version": "1.5.0",
            "_model_name": "HTMLModel",
            "_view_count": null,
            "_view_module": "@jupyter-widgets/controls",
            "_view_module_version": "1.5.0",
            "_view_name": "HTMLView",
            "description": "",
            "description_tooltip": null,
            "layout": "IPY_MODEL_20cb305d26c249a3a69703c54d5045d6",
            "placeholder": "​",
            "style": "IPY_MODEL_e726d7007e284f459a014105c6b89674",
            "value": "Downloading (…)neration_config.json: 100%"
          }
        },
        "6c832c9fa36a4b928beac0dda7f708df": {
          "model_module": "@jupyter-widgets/controls",
          "model_name": "FloatProgressModel",
          "model_module_version": "1.5.0",
          "state": {
            "_dom_classes": [],
            "_model_module": "@jupyter-widgets/controls",
            "_model_module_version": "1.5.0",
            "_model_name": "FloatProgressModel",
            "_view_count": null,
            "_view_module": "@jupyter-widgets/controls",
            "_view_module_version": "1.5.0",
            "_view_name": "ProgressView",
            "bar_style": "success",
            "description": "",
            "description_tooltip": null,
            "layout": "IPY_MODEL_650299967c7e427ca96b4aae7a60751a",
            "max": 147,
            "min": 0,
            "orientation": "horizontal",
            "style": "IPY_MODEL_b35f5896251c4b3bb015c5563afd2b02",
            "value": 147
          }
        },
        "ca2c5918618d4c41bd02f1a7b408748c": {
          "model_module": "@jupyter-widgets/controls",
          "model_name": "HTMLModel",
          "model_module_version": "1.5.0",
          "state": {
            "_dom_classes": [],
            "_model_module": "@jupyter-widgets/controls",
            "_model_module_version": "1.5.0",
            "_model_name": "HTMLModel",
            "_view_count": null,
            "_view_module": "@jupyter-widgets/controls",
            "_view_module_version": "1.5.0",
            "_view_name": "HTMLView",
            "description": "",
            "description_tooltip": null,
            "layout": "IPY_MODEL_2873e6d076a34265a54673b4284cd241",
            "placeholder": "​",
            "style": "IPY_MODEL_9488fdfab940482f9cdbe45962ed9360",
            "value": " 147/147 [00:00&lt;00:00, 5.24kB/s]"
          }
        },
        "3ed61ecbdac6402d873d6ef54863d019": {
          "model_module": "@jupyter-widgets/base",
          "model_name": "LayoutModel",
          "model_module_version": "1.2.0",
          "state": {
            "_model_module": "@jupyter-widgets/base",
            "_model_module_version": "1.2.0",
            "_model_name": "LayoutModel",
            "_view_count": null,
            "_view_module": "@jupyter-widgets/base",
            "_view_module_version": "1.2.0",
            "_view_name": "LayoutView",
            "align_content": null,
            "align_items": null,
            "align_self": null,
            "border": null,
            "bottom": null,
            "display": null,
            "flex": null,
            "flex_flow": null,
            "grid_area": null,
            "grid_auto_columns": null,
            "grid_auto_flow": null,
            "grid_auto_rows": null,
            "grid_column": null,
            "grid_gap": null,
            "grid_row": null,
            "grid_template_areas": null,
            "grid_template_columns": null,
            "grid_template_rows": null,
            "height": null,
            "justify_content": null,
            "justify_items": null,
            "left": null,
            "margin": null,
            "max_height": null,
            "max_width": null,
            "min_height": null,
            "min_width": null,
            "object_fit": null,
            "object_position": null,
            "order": null,
            "overflow": null,
            "overflow_x": null,
            "overflow_y": null,
            "padding": null,
            "right": null,
            "top": null,
            "visibility": null,
            "width": null
          }
        },
        "20cb305d26c249a3a69703c54d5045d6": {
          "model_module": "@jupyter-widgets/base",
          "model_name": "LayoutModel",
          "model_module_version": "1.2.0",
          "state": {
            "_model_module": "@jupyter-widgets/base",
            "_model_module_version": "1.2.0",
            "_model_name": "LayoutModel",
            "_view_count": null,
            "_view_module": "@jupyter-widgets/base",
            "_view_module_version": "1.2.0",
            "_view_name": "LayoutView",
            "align_content": null,
            "align_items": null,
            "align_self": null,
            "border": null,
            "bottom": null,
            "display": null,
            "flex": null,
            "flex_flow": null,
            "grid_area": null,
            "grid_auto_columns": null,
            "grid_auto_flow": null,
            "grid_auto_rows": null,
            "grid_column": null,
            "grid_gap": null,
            "grid_row": null,
            "grid_template_areas": null,
            "grid_template_columns": null,
            "grid_template_rows": null,
            "height": null,
            "justify_content": null,
            "justify_items": null,
            "left": null,
            "margin": null,
            "max_height": null,
            "max_width": null,
            "min_height": null,
            "min_width": null,
            "object_fit": null,
            "object_position": null,
            "order": null,
            "overflow": null,
            "overflow_x": null,
            "overflow_y": null,
            "padding": null,
            "right": null,
            "top": null,
            "visibility": null,
            "width": null
          }
        },
        "e726d7007e284f459a014105c6b89674": {
          "model_module": "@jupyter-widgets/controls",
          "model_name": "DescriptionStyleModel",
          "model_module_version": "1.5.0",
          "state": {
            "_model_module": "@jupyter-widgets/controls",
            "_model_module_version": "1.5.0",
            "_model_name": "DescriptionStyleModel",
            "_view_count": null,
            "_view_module": "@jupyter-widgets/base",
            "_view_module_version": "1.2.0",
            "_view_name": "StyleView",
            "description_width": ""
          }
        },
        "650299967c7e427ca96b4aae7a60751a": {
          "model_module": "@jupyter-widgets/base",
          "model_name": "LayoutModel",
          "model_module_version": "1.2.0",
          "state": {
            "_model_module": "@jupyter-widgets/base",
            "_model_module_version": "1.2.0",
            "_model_name": "LayoutModel",
            "_view_count": null,
            "_view_module": "@jupyter-widgets/base",
            "_view_module_version": "1.2.0",
            "_view_name": "LayoutView",
            "align_content": null,
            "align_items": null,
            "align_self": null,
            "border": null,
            "bottom": null,
            "display": null,
            "flex": null,
            "flex_flow": null,
            "grid_area": null,
            "grid_auto_columns": null,
            "grid_auto_flow": null,
            "grid_auto_rows": null,
            "grid_column": null,
            "grid_gap": null,
            "grid_row": null,
            "grid_template_areas": null,
            "grid_template_columns": null,
            "grid_template_rows": null,
            "height": null,
            "justify_content": null,
            "justify_items": null,
            "left": null,
            "margin": null,
            "max_height": null,
            "max_width": null,
            "min_height": null,
            "min_width": null,
            "object_fit": null,
            "object_position": null,
            "order": null,
            "overflow": null,
            "overflow_x": null,
            "overflow_y": null,
            "padding": null,
            "right": null,
            "top": null,
            "visibility": null,
            "width": null
          }
        },
        "b35f5896251c4b3bb015c5563afd2b02": {
          "model_module": "@jupyter-widgets/controls",
          "model_name": "ProgressStyleModel",
          "model_module_version": "1.5.0",
          "state": {
            "_model_module": "@jupyter-widgets/controls",
            "_model_module_version": "1.5.0",
            "_model_name": "ProgressStyleModel",
            "_view_count": null,
            "_view_module": "@jupyter-widgets/base",
            "_view_module_version": "1.2.0",
            "_view_name": "StyleView",
            "bar_color": null,
            "description_width": ""
          }
        },
        "2873e6d076a34265a54673b4284cd241": {
          "model_module": "@jupyter-widgets/base",
          "model_name": "LayoutModel",
          "model_module_version": "1.2.0",
          "state": {
            "_model_module": "@jupyter-widgets/base",
            "_model_module_version": "1.2.0",
            "_model_name": "LayoutModel",
            "_view_count": null,
            "_view_module": "@jupyter-widgets/base",
            "_view_module_version": "1.2.0",
            "_view_name": "LayoutView",
            "align_content": null,
            "align_items": null,
            "align_self": null,
            "border": null,
            "bottom": null,
            "display": null,
            "flex": null,
            "flex_flow": null,
            "grid_area": null,
            "grid_auto_columns": null,
            "grid_auto_flow": null,
            "grid_auto_rows": null,
            "grid_column": null,
            "grid_gap": null,
            "grid_row": null,
            "grid_template_areas": null,
            "grid_template_columns": null,
            "grid_template_rows": null,
            "height": null,
            "justify_content": null,
            "justify_items": null,
            "left": null,
            "margin": null,
            "max_height": null,
            "max_width": null,
            "min_height": null,
            "min_width": null,
            "object_fit": null,
            "object_position": null,
            "order": null,
            "overflow": null,
            "overflow_x": null,
            "overflow_y": null,
            "padding": null,
            "right": null,
            "top": null,
            "visibility": null,
            "width": null
          }
        },
        "9488fdfab940482f9cdbe45962ed9360": {
          "model_module": "@jupyter-widgets/controls",
          "model_name": "DescriptionStyleModel",
          "model_module_version": "1.5.0",
          "state": {
            "_model_module": "@jupyter-widgets/controls",
            "_model_module_version": "1.5.0",
            "_model_name": "DescriptionStyleModel",
            "_view_count": null,
            "_view_module": "@jupyter-widgets/base",
            "_view_module_version": "1.2.0",
            "_view_name": "StyleView",
            "description_width": ""
          }
        },
        "4406d174353f4aacb1c1d66917767c8d": {
          "model_module": "@jupyter-widgets/controls",
          "model_name": "HBoxModel",
          "model_module_version": "1.5.0",
          "state": {
            "_dom_classes": [],
            "_model_module": "@jupyter-widgets/controls",
            "_model_module_version": "1.5.0",
            "_model_name": "HBoxModel",
            "_view_count": null,
            "_view_module": "@jupyter-widgets/controls",
            "_view_module_version": "1.5.0",
            "_view_name": "HBoxView",
            "box_style": "",
            "children": [
              "IPY_MODEL_510a81239ed84868a42c4d2c37691d13",
              "IPY_MODEL_c2296599a2fc466d97ebee8f4a523864",
              "IPY_MODEL_88444d64072d40fba097742e5d2f2bdb"
            ],
            "layout": "IPY_MODEL_8720aa06ebf4448397ad29c8968d45bf"
          }
        },
        "510a81239ed84868a42c4d2c37691d13": {
          "model_module": "@jupyter-widgets/controls",
          "model_name": "HTMLModel",
          "model_module_version": "1.5.0",
          "state": {
            "_dom_classes": [],
            "_model_module": "@jupyter-widgets/controls",
            "_model_module_version": "1.5.0",
            "_model_name": "HTMLModel",
            "_view_count": null,
            "_view_module": "@jupyter-widgets/controls",
            "_view_module_version": "1.5.0",
            "_view_name": "HTMLView",
            "description": "",
            "description_tooltip": null,
            "layout": "IPY_MODEL_0dd087850171470e874430c3f43a6d13",
            "placeholder": "​",
            "style": "IPY_MODEL_e87accd9af3f43de9b95056d9b5c824b",
            "value": "Downloading builder script: "
          }
        },
        "c2296599a2fc466d97ebee8f4a523864": {
          "model_module": "@jupyter-widgets/controls",
          "model_name": "FloatProgressModel",
          "model_module_version": "1.5.0",
          "state": {
            "_dom_classes": [],
            "_model_module": "@jupyter-widgets/controls",
            "_model_module_version": "1.5.0",
            "_model_name": "FloatProgressModel",
            "_view_count": null,
            "_view_module": "@jupyter-widgets/controls",
            "_view_module_version": "1.5.0",
            "_view_name": "ProgressView",
            "bar_style": "success",
            "description": "",
            "description_tooltip": null,
            "layout": "IPY_MODEL_3b23d76cb2b04d9593f66f041d43c332",
            "max": 2169,
            "min": 0,
            "orientation": "horizontal",
            "style": "IPY_MODEL_8483a79361b24235a4e55a59b43434ea",
            "value": 2169
          }
        },
        "88444d64072d40fba097742e5d2f2bdb": {
          "model_module": "@jupyter-widgets/controls",
          "model_name": "HTMLModel",
          "model_module_version": "1.5.0",
          "state": {
            "_dom_classes": [],
            "_model_module": "@jupyter-widgets/controls",
            "_model_module_version": "1.5.0",
            "_model_name": "HTMLModel",
            "_view_count": null,
            "_view_module": "@jupyter-widgets/controls",
            "_view_module_version": "1.5.0",
            "_view_name": "HTMLView",
            "description": "",
            "description_tooltip": null,
            "layout": "IPY_MODEL_ff4a6155531c492abe551c58e4afc0bf",
            "placeholder": "​",
            "style": "IPY_MODEL_97877338c9844a02998f8d8901bb53ff",
            "value": " 5.65k/? [00:00&lt;00:00, 271kB/s]"
          }
        },
        "8720aa06ebf4448397ad29c8968d45bf": {
          "model_module": "@jupyter-widgets/base",
          "model_name": "LayoutModel",
          "model_module_version": "1.2.0",
          "state": {
            "_model_module": "@jupyter-widgets/base",
            "_model_module_version": "1.2.0",
            "_model_name": "LayoutModel",
            "_view_count": null,
            "_view_module": "@jupyter-widgets/base",
            "_view_module_version": "1.2.0",
            "_view_name": "LayoutView",
            "align_content": null,
            "align_items": null,
            "align_self": null,
            "border": null,
            "bottom": null,
            "display": null,
            "flex": null,
            "flex_flow": null,
            "grid_area": null,
            "grid_auto_columns": null,
            "grid_auto_flow": null,
            "grid_auto_rows": null,
            "grid_column": null,
            "grid_gap": null,
            "grid_row": null,
            "grid_template_areas": null,
            "grid_template_columns": null,
            "grid_template_rows": null,
            "height": null,
            "justify_content": null,
            "justify_items": null,
            "left": null,
            "margin": null,
            "max_height": null,
            "max_width": null,
            "min_height": null,
            "min_width": null,
            "object_fit": null,
            "object_position": null,
            "order": null,
            "overflow": null,
            "overflow_x": null,
            "overflow_y": null,
            "padding": null,
            "right": null,
            "top": null,
            "visibility": null,
            "width": null
          }
        },
        "0dd087850171470e874430c3f43a6d13": {
          "model_module": "@jupyter-widgets/base",
          "model_name": "LayoutModel",
          "model_module_version": "1.2.0",
          "state": {
            "_model_module": "@jupyter-widgets/base",
            "_model_module_version": "1.2.0",
            "_model_name": "LayoutModel",
            "_view_count": null,
            "_view_module": "@jupyter-widgets/base",
            "_view_module_version": "1.2.0",
            "_view_name": "LayoutView",
            "align_content": null,
            "align_items": null,
            "align_self": null,
            "border": null,
            "bottom": null,
            "display": null,
            "flex": null,
            "flex_flow": null,
            "grid_area": null,
            "grid_auto_columns": null,
            "grid_auto_flow": null,
            "grid_auto_rows": null,
            "grid_column": null,
            "grid_gap": null,
            "grid_row": null,
            "grid_template_areas": null,
            "grid_template_columns": null,
            "grid_template_rows": null,
            "height": null,
            "justify_content": null,
            "justify_items": null,
            "left": null,
            "margin": null,
            "max_height": null,
            "max_width": null,
            "min_height": null,
            "min_width": null,
            "object_fit": null,
            "object_position": null,
            "order": null,
            "overflow": null,
            "overflow_x": null,
            "overflow_y": null,
            "padding": null,
            "right": null,
            "top": null,
            "visibility": null,
            "width": null
          }
        },
        "e87accd9af3f43de9b95056d9b5c824b": {
          "model_module": "@jupyter-widgets/controls",
          "model_name": "DescriptionStyleModel",
          "model_module_version": "1.5.0",
          "state": {
            "_model_module": "@jupyter-widgets/controls",
            "_model_module_version": "1.5.0",
            "_model_name": "DescriptionStyleModel",
            "_view_count": null,
            "_view_module": "@jupyter-widgets/base",
            "_view_module_version": "1.2.0",
            "_view_name": "StyleView",
            "description_width": ""
          }
        },
        "3b23d76cb2b04d9593f66f041d43c332": {
          "model_module": "@jupyter-widgets/base",
          "model_name": "LayoutModel",
          "model_module_version": "1.2.0",
          "state": {
            "_model_module": "@jupyter-widgets/base",
            "_model_module_version": "1.2.0",
            "_model_name": "LayoutModel",
            "_view_count": null,
            "_view_module": "@jupyter-widgets/base",
            "_view_module_version": "1.2.0",
            "_view_name": "LayoutView",
            "align_content": null,
            "align_items": null,
            "align_self": null,
            "border": null,
            "bottom": null,
            "display": null,
            "flex": null,
            "flex_flow": null,
            "grid_area": null,
            "grid_auto_columns": null,
            "grid_auto_flow": null,
            "grid_auto_rows": null,
            "grid_column": null,
            "grid_gap": null,
            "grid_row": null,
            "grid_template_areas": null,
            "grid_template_columns": null,
            "grid_template_rows": null,
            "height": null,
            "justify_content": null,
            "justify_items": null,
            "left": null,
            "margin": null,
            "max_height": null,
            "max_width": null,
            "min_height": null,
            "min_width": null,
            "object_fit": null,
            "object_position": null,
            "order": null,
            "overflow": null,
            "overflow_x": null,
            "overflow_y": null,
            "padding": null,
            "right": null,
            "top": null,
            "visibility": null,
            "width": null
          }
        },
        "8483a79361b24235a4e55a59b43434ea": {
          "model_module": "@jupyter-widgets/controls",
          "model_name": "ProgressStyleModel",
          "model_module_version": "1.5.0",
          "state": {
            "_model_module": "@jupyter-widgets/controls",
            "_model_module_version": "1.5.0",
            "_model_name": "ProgressStyleModel",
            "_view_count": null,
            "_view_module": "@jupyter-widgets/base",
            "_view_module_version": "1.2.0",
            "_view_name": "StyleView",
            "bar_color": null,
            "description_width": ""
          }
        },
        "ff4a6155531c492abe551c58e4afc0bf": {
          "model_module": "@jupyter-widgets/base",
          "model_name": "LayoutModel",
          "model_module_version": "1.2.0",
          "state": {
            "_model_module": "@jupyter-widgets/base",
            "_model_module_version": "1.2.0",
            "_model_name": "LayoutModel",
            "_view_count": null,
            "_view_module": "@jupyter-widgets/base",
            "_view_module_version": "1.2.0",
            "_view_name": "LayoutView",
            "align_content": null,
            "align_items": null,
            "align_self": null,
            "border": null,
            "bottom": null,
            "display": null,
            "flex": null,
            "flex_flow": null,
            "grid_area": null,
            "grid_auto_columns": null,
            "grid_auto_flow": null,
            "grid_auto_rows": null,
            "grid_column": null,
            "grid_gap": null,
            "grid_row": null,
            "grid_template_areas": null,
            "grid_template_columns": null,
            "grid_template_rows": null,
            "height": null,
            "justify_content": null,
            "justify_items": null,
            "left": null,
            "margin": null,
            "max_height": null,
            "max_width": null,
            "min_height": null,
            "min_width": null,
            "object_fit": null,
            "object_position": null,
            "order": null,
            "overflow": null,
            "overflow_x": null,
            "overflow_y": null,
            "padding": null,
            "right": null,
            "top": null,
            "visibility": null,
            "width": null
          }
        },
        "97877338c9844a02998f8d8901bb53ff": {
          "model_module": "@jupyter-widgets/controls",
          "model_name": "DescriptionStyleModel",
          "model_module_version": "1.5.0",
          "state": {
            "_model_module": "@jupyter-widgets/controls",
            "_model_module_version": "1.5.0",
            "_model_name": "DescriptionStyleModel",
            "_view_count": null,
            "_view_module": "@jupyter-widgets/base",
            "_view_module_version": "1.2.0",
            "_view_name": "StyleView",
            "description_width": ""
          }
        }
      }
    }
  },
  "cells": [
    {
      "cell_type": "code",
      "source": [
        "!pip install transformers==4.28.0 accelerate sentencepiece\n",
        "!pip install datasets jsonlines\n",
        "!pip install rouge_score nltk"
      ],
      "metadata": {
        "colab": {
          "base_uri": "https://localhost:8080/"
        },
        "id": "yWi7iRpDD2Cf",
        "outputId": "d652376f-498a-4357-c5f6-7d50e78e21d8"
      },
      "execution_count": 1,
      "outputs": [
        {
          "output_type": "stream",
          "name": "stdout",
          "text": [
            "Looking in indexes: https://pypi.org/simple, https://us-python.pkg.dev/colab-wheels/public/simple/\n",
            "Collecting transformers==4.28.0\n",
            "  Downloading transformers-4.28.0-py3-none-any.whl (7.0 MB)\n",
            "\u001b[2K     \u001b[90m━━━━━━━━━━━━━━━━━━━━━━━━━━━━━━━━━━━━━━━━\u001b[0m \u001b[32m7.0/7.0 MB\u001b[0m \u001b[31m72.4 MB/s\u001b[0m eta \u001b[36m0:00:00\u001b[0m\n",
            "\u001b[?25hCollecting accelerate\n",
            "  Downloading accelerate-0.19.0-py3-none-any.whl (219 kB)\n",
            "\u001b[2K     \u001b[90m━━━━━━━━━━━━━━━━━━━━━━━━━━━━━━━━━━━━━━\u001b[0m \u001b[32m219.1/219.1 kB\u001b[0m \u001b[31m27.1 MB/s\u001b[0m eta \u001b[36m0:00:00\u001b[0m\n",
            "\u001b[?25hCollecting sentencepiece\n",
            "  Downloading sentencepiece-0.1.99-cp310-cp310-manylinux_2_17_x86_64.manylinux2014_x86_64.whl (1.3 MB)\n",
            "\u001b[2K     \u001b[90m━━━━━━━━━━━━━━━━━━━━━━━━━━━━━━━━━━━━━━━━\u001b[0m \u001b[32m1.3/1.3 MB\u001b[0m \u001b[31m63.6 MB/s\u001b[0m eta \u001b[36m0:00:00\u001b[0m\n",
            "\u001b[?25hRequirement already satisfied: filelock in /usr/local/lib/python3.10/dist-packages (from transformers==4.28.0) (3.12.0)\n",
            "Collecting huggingface-hub<1.0,>=0.11.0 (from transformers==4.28.0)\n",
            "  Downloading huggingface_hub-0.15.1-py3-none-any.whl (236 kB)\n",
            "\u001b[2K     \u001b[90m━━━━━━━━━━━━━━━━━━━━━━━━━━━━━━━━━━━━━━\u001b[0m \u001b[32m236.8/236.8 kB\u001b[0m \u001b[31m26.2 MB/s\u001b[0m eta \u001b[36m0:00:00\u001b[0m\n",
            "\u001b[?25hRequirement already satisfied: numpy>=1.17 in /usr/local/lib/python3.10/dist-packages (from transformers==4.28.0) (1.22.4)\n",
            "Requirement already satisfied: packaging>=20.0 in /usr/local/lib/python3.10/dist-packages (from transformers==4.28.0) (23.1)\n",
            "Requirement already satisfied: pyyaml>=5.1 in /usr/local/lib/python3.10/dist-packages (from transformers==4.28.0) (6.0)\n",
            "Requirement already satisfied: regex!=2019.12.17 in /usr/local/lib/python3.10/dist-packages (from transformers==4.28.0) (2022.10.31)\n",
            "Requirement already satisfied: requests in /usr/local/lib/python3.10/dist-packages (from transformers==4.28.0) (2.27.1)\n",
            "Collecting tokenizers!=0.11.3,<0.14,>=0.11.1 (from transformers==4.28.0)\n",
            "  Downloading tokenizers-0.13.3-cp310-cp310-manylinux_2_17_x86_64.manylinux2014_x86_64.whl (7.8 MB)\n",
            "\u001b[2K     \u001b[90m━━━━━━━━━━━━━━━━━━━━━━━━━━━━━━━━━━━━━━━━\u001b[0m \u001b[32m7.8/7.8 MB\u001b[0m \u001b[31m84.2 MB/s\u001b[0m eta \u001b[36m0:00:00\u001b[0m\n",
            "\u001b[?25hRequirement already satisfied: tqdm>=4.27 in /usr/local/lib/python3.10/dist-packages (from transformers==4.28.0) (4.65.0)\n",
            "Requirement already satisfied: psutil in /usr/local/lib/python3.10/dist-packages (from accelerate) (5.9.5)\n",
            "Requirement already satisfied: torch>=1.6.0 in /usr/local/lib/python3.10/dist-packages (from accelerate) (2.0.1+cu118)\n",
            "Requirement already satisfied: fsspec in /usr/local/lib/python3.10/dist-packages (from huggingface-hub<1.0,>=0.11.0->transformers==4.28.0) (2023.4.0)\n",
            "Requirement already satisfied: typing-extensions>=3.7.4.3 in /usr/local/lib/python3.10/dist-packages (from huggingface-hub<1.0,>=0.11.0->transformers==4.28.0) (4.5.0)\n",
            "Requirement already satisfied: sympy in /usr/local/lib/python3.10/dist-packages (from torch>=1.6.0->accelerate) (1.11.1)\n",
            "Requirement already satisfied: networkx in /usr/local/lib/python3.10/dist-packages (from torch>=1.6.0->accelerate) (3.1)\n",
            "Requirement already satisfied: jinja2 in /usr/local/lib/python3.10/dist-packages (from torch>=1.6.0->accelerate) (3.1.2)\n",
            "Requirement already satisfied: triton==2.0.0 in /usr/local/lib/python3.10/dist-packages (from torch>=1.6.0->accelerate) (2.0.0)\n",
            "Requirement already satisfied: cmake in /usr/local/lib/python3.10/dist-packages (from triton==2.0.0->torch>=1.6.0->accelerate) (3.25.2)\n",
            "Requirement already satisfied: lit in /usr/local/lib/python3.10/dist-packages (from triton==2.0.0->torch>=1.6.0->accelerate) (16.0.5)\n",
            "Requirement already satisfied: urllib3<1.27,>=1.21.1 in /usr/local/lib/python3.10/dist-packages (from requests->transformers==4.28.0) (1.26.15)\n",
            "Requirement already satisfied: certifi>=2017.4.17 in /usr/local/lib/python3.10/dist-packages (from requests->transformers==4.28.0) (2022.12.7)\n",
            "Requirement already satisfied: charset-normalizer~=2.0.0 in /usr/local/lib/python3.10/dist-packages (from requests->transformers==4.28.0) (2.0.12)\n",
            "Requirement already satisfied: idna<4,>=2.5 in /usr/local/lib/python3.10/dist-packages (from requests->transformers==4.28.0) (3.4)\n",
            "Requirement already satisfied: MarkupSafe>=2.0 in /usr/local/lib/python3.10/dist-packages (from jinja2->torch>=1.6.0->accelerate) (2.1.2)\n",
            "Requirement already satisfied: mpmath>=0.19 in /usr/local/lib/python3.10/dist-packages (from sympy->torch>=1.6.0->accelerate) (1.3.0)\n",
            "Installing collected packages: tokenizers, sentencepiece, huggingface-hub, transformers, accelerate\n",
            "Successfully installed accelerate-0.19.0 huggingface-hub-0.15.1 sentencepiece-0.1.99 tokenizers-0.13.3 transformers-4.28.0\n",
            "Looking in indexes: https://pypi.org/simple, https://us-python.pkg.dev/colab-wheels/public/simple/\n",
            "Collecting datasets\n",
            "  Downloading datasets-2.12.0-py3-none-any.whl (474 kB)\n",
            "\u001b[2K     \u001b[90m━━━━━━━━━━━━━━━━━━━━━━━━━━━━━━━━━━━━━━\u001b[0m \u001b[32m474.6/474.6 kB\u001b[0m \u001b[31m26.9 MB/s\u001b[0m eta \u001b[36m0:00:00\u001b[0m\n",
            "\u001b[?25hCollecting jsonlines\n",
            "  Downloading jsonlines-3.1.0-py3-none-any.whl (8.6 kB)\n",
            "Requirement already satisfied: numpy>=1.17 in /usr/local/lib/python3.10/dist-packages (from datasets) (1.22.4)\n",
            "Requirement already satisfied: pyarrow>=8.0.0 in /usr/local/lib/python3.10/dist-packages (from datasets) (9.0.0)\n",
            "Collecting dill<0.3.7,>=0.3.0 (from datasets)\n",
            "  Downloading dill-0.3.6-py3-none-any.whl (110 kB)\n",
            "\u001b[2K     \u001b[90m━━━━━━━━━━━━━━━━━━━━━━━━━━━━━━━━━━━━━━\u001b[0m \u001b[32m110.5/110.5 kB\u001b[0m \u001b[31m11.8 MB/s\u001b[0m eta \u001b[36m0:00:00\u001b[0m\n",
            "\u001b[?25hRequirement already satisfied: pandas in /usr/local/lib/python3.10/dist-packages (from datasets) (1.5.3)\n",
            "Requirement already satisfied: requests>=2.19.0 in /usr/local/lib/python3.10/dist-packages (from datasets) (2.27.1)\n",
            "Requirement already satisfied: tqdm>=4.62.1 in /usr/local/lib/python3.10/dist-packages (from datasets) (4.65.0)\n",
            "Collecting xxhash (from datasets)\n",
            "  Downloading xxhash-3.2.0-cp310-cp310-manylinux_2_17_x86_64.manylinux2014_x86_64.whl (212 kB)\n",
            "\u001b[2K     \u001b[90m━━━━━━━━━━━━━━━━━━━━━━━━━━━━━━━━━━━━━━\u001b[0m \u001b[32m212.5/212.5 kB\u001b[0m \u001b[31m27.6 MB/s\u001b[0m eta \u001b[36m0:00:00\u001b[0m\n",
            "\u001b[?25hCollecting multiprocess (from datasets)\n",
            "  Downloading multiprocess-0.70.14-py310-none-any.whl (134 kB)\n",
            "\u001b[2K     \u001b[90m━━━━━━━━━━━━━━━━━━━━━━━━━━━━━━━━━━━━━━\u001b[0m \u001b[32m134.3/134.3 kB\u001b[0m \u001b[31m20.0 MB/s\u001b[0m eta \u001b[36m0:00:00\u001b[0m\n",
            "\u001b[?25hRequirement already satisfied: fsspec[http]>=2021.11.1 in /usr/local/lib/python3.10/dist-packages (from datasets) (2023.4.0)\n",
            "Collecting aiohttp (from datasets)\n",
            "  Downloading aiohttp-3.8.4-cp310-cp310-manylinux_2_17_x86_64.manylinux2014_x86_64.whl (1.0 MB)\n",
            "\u001b[2K     \u001b[90m━━━━━━━━━━━━━━━━━━━━━━━━━━━━━━━━━━━━━━━━\u001b[0m \u001b[32m1.0/1.0 MB\u001b[0m \u001b[31m74.4 MB/s\u001b[0m eta \u001b[36m0:00:00\u001b[0m\n",
            "\u001b[?25hRequirement already satisfied: huggingface-hub<1.0.0,>=0.11.0 in /usr/local/lib/python3.10/dist-packages (from datasets) (0.15.1)\n",
            "Requirement already satisfied: packaging in /usr/local/lib/python3.10/dist-packages (from datasets) (23.1)\n",
            "Collecting responses<0.19 (from datasets)\n",
            "  Downloading responses-0.18.0-py3-none-any.whl (38 kB)\n",
            "Requirement already satisfied: pyyaml>=5.1 in /usr/local/lib/python3.10/dist-packages (from datasets) (6.0)\n",
            "Requirement already satisfied: attrs>=19.2.0 in /usr/local/lib/python3.10/dist-packages (from jsonlines) (23.1.0)\n",
            "Requirement already satisfied: charset-normalizer<4.0,>=2.0 in /usr/local/lib/python3.10/dist-packages (from aiohttp->datasets) (2.0.12)\n",
            "Collecting multidict<7.0,>=4.5 (from aiohttp->datasets)\n",
            "  Downloading multidict-6.0.4-cp310-cp310-manylinux_2_17_x86_64.manylinux2014_x86_64.whl (114 kB)\n",
            "\u001b[2K     \u001b[90m━━━━━━━━━━━━━━━━━━━━━━━━━━━━━━━━━━━━━━\u001b[0m \u001b[32m114.5/114.5 kB\u001b[0m \u001b[31m18.0 MB/s\u001b[0m eta \u001b[36m0:00:00\u001b[0m\n",
            "\u001b[?25hCollecting async-timeout<5.0,>=4.0.0a3 (from aiohttp->datasets)\n",
            "  Downloading async_timeout-4.0.2-py3-none-any.whl (5.8 kB)\n",
            "Collecting yarl<2.0,>=1.0 (from aiohttp->datasets)\n",
            "  Downloading yarl-1.9.2-cp310-cp310-manylinux_2_17_x86_64.manylinux2014_x86_64.whl (268 kB)\n",
            "\u001b[2K     \u001b[90m━━━━━━━━━━━━━━━━━━━━━━━━━━━━━━━━━━━━━━\u001b[0m \u001b[32m268.8/268.8 kB\u001b[0m \u001b[31m29.0 MB/s\u001b[0m eta \u001b[36m0:00:00\u001b[0m\n",
            "\u001b[?25hCollecting frozenlist>=1.1.1 (from aiohttp->datasets)\n",
            "  Downloading frozenlist-1.3.3-cp310-cp310-manylinux_2_5_x86_64.manylinux1_x86_64.manylinux_2_17_x86_64.manylinux2014_x86_64.whl (149 kB)\n",
            "\u001b[2K     \u001b[90m━━━━━━━━━━━━━━━━━━━━━━━━━━━━━━━━━━━━━━\u001b[0m \u001b[32m149.6/149.6 kB\u001b[0m \u001b[31m21.8 MB/s\u001b[0m eta \u001b[36m0:00:00\u001b[0m\n",
            "\u001b[?25hCollecting aiosignal>=1.1.2 (from aiohttp->datasets)\n",
            "  Downloading aiosignal-1.3.1-py3-none-any.whl (7.6 kB)\n",
            "Requirement already satisfied: filelock in /usr/local/lib/python3.10/dist-packages (from huggingface-hub<1.0.0,>=0.11.0->datasets) (3.12.0)\n",
            "Requirement already satisfied: typing-extensions>=3.7.4.3 in /usr/local/lib/python3.10/dist-packages (from huggingface-hub<1.0.0,>=0.11.0->datasets) (4.5.0)\n",
            "Requirement already satisfied: urllib3<1.27,>=1.21.1 in /usr/local/lib/python3.10/dist-packages (from requests>=2.19.0->datasets) (1.26.15)\n",
            "Requirement already satisfied: certifi>=2017.4.17 in /usr/local/lib/python3.10/dist-packages (from requests>=2.19.0->datasets) (2022.12.7)\n",
            "Requirement already satisfied: idna<4,>=2.5 in /usr/local/lib/python3.10/dist-packages (from requests>=2.19.0->datasets) (3.4)\n",
            "Requirement already satisfied: python-dateutil>=2.8.1 in /usr/local/lib/python3.10/dist-packages (from pandas->datasets) (2.8.2)\n",
            "Requirement already satisfied: pytz>=2020.1 in /usr/local/lib/python3.10/dist-packages (from pandas->datasets) (2022.7.1)\n",
            "Requirement already satisfied: six>=1.5 in /usr/local/lib/python3.10/dist-packages (from python-dateutil>=2.8.1->pandas->datasets) (1.16.0)\n",
            "Installing collected packages: xxhash, multidict, jsonlines, frozenlist, dill, async-timeout, yarl, responses, multiprocess, aiosignal, aiohttp, datasets\n",
            "Successfully installed aiohttp-3.8.4 aiosignal-1.3.1 async-timeout-4.0.2 datasets-2.12.0 dill-0.3.6 frozenlist-1.3.3 jsonlines-3.1.0 multidict-6.0.4 multiprocess-0.70.14 responses-0.18.0 xxhash-3.2.0 yarl-1.9.2\n",
            "Looking in indexes: https://pypi.org/simple, https://us-python.pkg.dev/colab-wheels/public/simple/\n",
            "Collecting rouge_score\n",
            "  Downloading rouge_score-0.1.2.tar.gz (17 kB)\n",
            "  Preparing metadata (setup.py) ... \u001b[?25l\u001b[?25hdone\n",
            "Requirement already satisfied: nltk in /usr/local/lib/python3.10/dist-packages (3.8.1)\n",
            "Requirement already satisfied: absl-py in /usr/local/lib/python3.10/dist-packages (from rouge_score) (1.4.0)\n",
            "Requirement already satisfied: numpy in /usr/local/lib/python3.10/dist-packages (from rouge_score) (1.22.4)\n",
            "Requirement already satisfied: six>=1.14.0 in /usr/local/lib/python3.10/dist-packages (from rouge_score) (1.16.0)\n",
            "Requirement already satisfied: click in /usr/local/lib/python3.10/dist-packages (from nltk) (8.1.3)\n",
            "Requirement already satisfied: joblib in /usr/local/lib/python3.10/dist-packages (from nltk) (1.2.0)\n",
            "Requirement already satisfied: regex>=2021.8.3 in /usr/local/lib/python3.10/dist-packages (from nltk) (2022.10.31)\n",
            "Requirement already satisfied: tqdm in /usr/local/lib/python3.10/dist-packages (from nltk) (4.65.0)\n",
            "Building wheels for collected packages: rouge_score\n",
            "  Building wheel for rouge_score (setup.py) ... \u001b[?25l\u001b[?25hdone\n",
            "  Created wheel for rouge_score: filename=rouge_score-0.1.2-py3-none-any.whl size=24934 sha256=c8b8277dffc8fee8e70d1be98d78f6b021e999ede0f95ca9c00ed1a11ad942a1\n",
            "  Stored in directory: /root/.cache/pip/wheels/5f/dd/89/461065a73be61a532ff8599a28e9beef17985c9e9c31e541b4\n",
            "Successfully built rouge_score\n",
            "Installing collected packages: rouge_score\n",
            "Successfully installed rouge_score-0.1.2\n"
          ]
        }
      ]
    },
    {
      "cell_type": "code",
      "source": [
        "import tensorflow as tf\n",
        "tf.test.gpu_device_name()"
      ],
      "metadata": {
        "colab": {
          "base_uri": "https://localhost:8080/",
          "height": 36
        },
        "id": "C2rsxrf816Xv",
        "outputId": "627bb4f3-c42f-4b93-96c5-b3c4f4dd4ae7"
      },
      "execution_count": 2,
      "outputs": [
        {
          "output_type": "execute_result",
          "data": {
            "text/plain": [
              "'/device:GPU:0'"
            ],
            "application/vnd.google.colaboratory.intrinsic+json": {
              "type": "string"
            }
          },
          "metadata": {},
          "execution_count": 2
        }
      ]
    },
    {
      "cell_type": "code",
      "source": [
        "\n",
        "# !pip install sentencepiece transformers\n",
        "# from transformers import T5Tokenizer, T5ForConditionalGeneration\n",
        "from transformers import T5Tokenizer, AutoModelForSeq2SeqLM, AutoTokenizer\n",
        "\n",
        "# tokenizer = T5Tokenizer.from_pretrained('t5-base')\n",
        "# model = T5ForConditionalGeneration.from_pretrained('t5-base')\n",
        "modelName = \"t5-base\"\n",
        "# modelName = \"facebook/bart-base\"\n",
        "# modelName = \"google/pegasus-xsum\"\n",
        "# modelName = \"./yoda-pegasus\"\n",
        "\n",
        "# modelName = \"bert-large-uncased\"\n",
        "tokenizer = AutoTokenizer.from_pretrained(modelName)\n",
        "model = AutoModelForSeq2SeqLM.from_pretrained(modelName)\n",
        "\n",
        "\n"
      ],
      "metadata": {
        "colab": {
          "base_uri": "https://localhost:8080/",
          "height": 301,
          "referenced_widgets": [
            "ebcbbb0bf994482e9a139b48308ae8c4",
            "aaaf97d0cac54f63bcaeb1641bf5d7a3",
            "fdf60a71666649cc8ff787e2060b66ea",
            "fa125e2987f84382b33a8e5b68547e9b",
            "a2c665e70b4f4235b141e69f07abae48",
            "b1e6ae22ae2f458ba0d720f8f770f15a",
            "b3d17daa31a04f669c8901961887fded",
            "cb369e4fa8684a85b949a426f417abf8",
            "ff25dc25ad3446f3b84d858ba0c065ed",
            "0cbac3f213b94ae9b6d08237fe7554c0",
            "a3d218902f1e46e898939fb9ca870be7",
            "efca02f4d9c64b8aa4805ba7ae73fd4d",
            "f4667dddd4c2446084930600ef3806e9",
            "d54e29e5ef5d43f8af9104dfe66a1dc4",
            "26a97ab3c2c2498f83066f58f550e165",
            "6ba06e3a160b4cb6ab5ceb897f51bb2d",
            "bf985d097cb4405c9352b3acfdcdcbb3",
            "d05bdfef1d754ec7ac806aaf45831a69",
            "f70b1f60a27a4fddaee114fee2f28472",
            "79c7f84565b749afaf7763f1510ddb42",
            "3a5ced765ab345a0a8639faf560e20ac",
            "e1d112f18fbe4a0fa070d8b8261cd960",
            "eced625e68004cd19e6cf08c9186ea4d",
            "21e5a50d9e824cc4ac3855890b717fdb",
            "499365117550467683d94db7689049b7",
            "7e8783236b044db288c50ed707977099",
            "f1344a59db214e63bb994d8e9c663ea7",
            "0fd446ece5cf4c91a766ab5079400d61",
            "2a4f44f8832644168f53dce7b98ac51f",
            "492bc9dac86a4145b1adcaaa8fb72209",
            "d6ae2f7a2cd9455da4e5eaf9ae556595",
            "096e5e478f7948e89bf7cbecd4973a20",
            "ca09d7f5dde74c72abc7333e11ef956e",
            "7c79713143c0484b9720bcb3f00df6dc",
            "7a3a10abb61c48a69ad365f605496478",
            "7772ec6231eb4e1a84933f77ab3b73ee",
            "ddc5d15d5713409fba2046d07d229029",
            "f16d5c6430ee4a388d162ee148dfd5b5",
            "93d26c28542747889fd43cbece78c0c1",
            "aa2f809fc922400d86cc28cdaf5ca5e3",
            "972189d086514dcebb81cac492fd9587",
            "6c0002214fd84ad08777f9bb6b207191",
            "5457567729eb4ddaa543ed68f16dfbb9",
            "5f9703f6783c476b92ed484ddbc15183",
            "ce8d05e1e0a740e59219e91734d2309b",
            "199476bc14764e42b79f2333815f0f8b",
            "6c832c9fa36a4b928beac0dda7f708df",
            "ca2c5918618d4c41bd02f1a7b408748c",
            "3ed61ecbdac6402d873d6ef54863d019",
            "20cb305d26c249a3a69703c54d5045d6",
            "e726d7007e284f459a014105c6b89674",
            "650299967c7e427ca96b4aae7a60751a",
            "b35f5896251c4b3bb015c5563afd2b02",
            "2873e6d076a34265a54673b4284cd241",
            "9488fdfab940482f9cdbe45962ed9360"
          ]
        },
        "id": "mwGQ1dxf3xQ2",
        "outputId": "ca1e2ff4-5dea-41be-8d47-927b1fcd7617"
      },
      "execution_count": 3,
      "outputs": [
        {
          "output_type": "display_data",
          "data": {
            "text/plain": [
              "Downloading (…)lve/main/config.json:   0%|          | 0.00/1.21k [00:00<?, ?B/s]"
            ],
            "application/vnd.jupyter.widget-view+json": {
              "version_major": 2,
              "version_minor": 0,
              "model_id": "ebcbbb0bf994482e9a139b48308ae8c4"
            }
          },
          "metadata": {}
        },
        {
          "output_type": "display_data",
          "data": {
            "text/plain": [
              "Downloading (…)ve/main/spiece.model:   0%|          | 0.00/792k [00:00<?, ?B/s]"
            ],
            "application/vnd.jupyter.widget-view+json": {
              "version_major": 2,
              "version_minor": 0,
              "model_id": "efca02f4d9c64b8aa4805ba7ae73fd4d"
            }
          },
          "metadata": {}
        },
        {
          "output_type": "display_data",
          "data": {
            "text/plain": [
              "Downloading (…)/main/tokenizer.json:   0%|          | 0.00/1.39M [00:00<?, ?B/s]"
            ],
            "application/vnd.jupyter.widget-view+json": {
              "version_major": 2,
              "version_minor": 0,
              "model_id": "eced625e68004cd19e6cf08c9186ea4d"
            }
          },
          "metadata": {}
        },
        {
          "output_type": "stream",
          "name": "stderr",
          "text": [
            "/usr/local/lib/python3.10/dist-packages/transformers/models/t5/tokenization_t5_fast.py:155: FutureWarning: This tokenizer was incorrectly instantiated with a model max length of 512 which will be corrected in Transformers v5.\n",
            "For now, this behavior is kept to avoid breaking backwards compatibility when padding/encoding with `truncation is True`.\n",
            "- Be aware that you SHOULD NOT rely on t5-base automatically truncating your input to 512 when padding/encoding.\n",
            "- If you want to encode/pad to sequences longer than 512 you can either instantiate this tokenizer with `model_max_length` or pass `max_length` when encoding/padding.\n",
            "- To avoid this warning, please instantiate this tokenizer with `model_max_length` set to your preferred value.\n",
            "  warnings.warn(\n"
          ]
        },
        {
          "output_type": "display_data",
          "data": {
            "text/plain": [
              "Downloading pytorch_model.bin:   0%|          | 0.00/892M [00:00<?, ?B/s]"
            ],
            "application/vnd.jupyter.widget-view+json": {
              "version_major": 2,
              "version_minor": 0,
              "model_id": "7c79713143c0484b9720bcb3f00df6dc"
            }
          },
          "metadata": {}
        },
        {
          "output_type": "display_data",
          "data": {
            "text/plain": [
              "Downloading (…)neration_config.json:   0%|          | 0.00/147 [00:00<?, ?B/s]"
            ],
            "application/vnd.jupyter.widget-view+json": {
              "version_major": 2,
              "version_minor": 0,
              "model_id": "ce8d05e1e0a740e59219e91734d2309b"
            }
          },
          "metadata": {}
        }
      ]
    },
    {
      "cell_type": "code",
      "source": [
        "prefix = \"Reverse this sentence as if yoda from star wars was speaking : \"\n",
        "# prefix = \"Translate this sentence to yoda speaking : \""
      ],
      "metadata": {
        "id": "WmhICvCZH86p"
      },
      "execution_count": 4,
      "outputs": []
    },
    {
      "cell_type": "code",
      "source": [
        "\n",
        "def translate_to_yoda(sentence, prefix, model):\n",
        "    input_text = prefix + sentence\n",
        "    input_ids = tokenizer.encode(input_text, return_tensors='pt')\n",
        "    outputs = model.generate(input_ids, max_length=256, num_beams=4, early_stopping=True)\n",
        "    translated_text = tokenizer.decode(outputs[0], skip_special_tokens=True)\n",
        "\n",
        "    # print(f\"Original: {input_text}\")\n",
        "    # print(f\"Yoda Translation: {translated_text}\")\n",
        "    return translated_text"
      ],
      "metadata": {
        "id": "GrvGnaZLH315"
      },
      "execution_count": 5,
      "outputs": []
    },
    {
      "cell_type": "code",
      "source": [
        "translate_to_yoda(\"We can see that the model weights alone take up 1.3 GB of the GPU memory. The exact number depends on the specific GPU you are using. Note that on newer GPUs a model can sometimes take up more space since the weights are loaded in an optimized fashion that speeds up the usage of the model. Now we can also quickly check if we get the same result as with nvidia-smi CLI:\",\"summarize : \", model)"
      ],
      "metadata": {
        "colab": {
          "base_uri": "https://localhost:8080/",
          "height": 36
        },
        "id": "SW6lua77H8Cu",
        "outputId": "13f0d30e-c560-4230-8e67-44dc60d8227c"
      },
      "execution_count": 6,
      "outputs": [
        {
          "output_type": "execute_result",
          "data": {
            "text/plain": [
              "'the model weights alone take up 1.3 GB of the GPU memory. the exact number depends on the specific GPU you are using.'"
            ],
            "application/vnd.google.colaboratory.intrinsic+json": {
              "type": "string"
            }
          },
          "metadata": {},
          "execution_count": 6
        }
      ]
    },
    {
      "cell_type": "code",
      "source": [
        "training = {\n",
        "    \"natural_sentences\" : [\n",
        "        \"I am hungry\",\n",
        "        \"I am learning Hugging Face.\",\n",
        "        \"May the Force be with you.\",\n",
        "        \"The sun rises in the east.\",\n",
        "        \"I like to go for long walks on the beach.\",\n",
        "        \"The cat chased the mouse around the house.\",\n",
        "        \"Coding is my passion and hobby.\",\n",
        "        \"I enjoy reading books on a rainy day.\",\n",
        "        \"The mountains are calling and I must go.\",\n",
        "        \"The world is full of possibilities.\",\n",
        "        \"The stars twinkle in the night sky.\",\n",
        "        \"I love to explore new places and cultures.\",\n",
        "        \"Music is the language of the soul.\",\n",
        "        \"Life is a journey, not a destination.\",\n",
        "        \"Happiness can be found in the simplest things.\",\n",
        "        \"The early bird catches the worm.\",\n",
        "        \"Time flies when you're having fun.\",\n",
        "        \"Laughter is the best medicine.\",\n",
        "        \"Dream big and never give up.\",\n",
        "        \"The future belongs to those who believe in the beauty of their dreams.\",\n",
        "        \"Success is a result of hard work and perseverance.\"\n",
        "    ],\n",
        "    \"yoda_translations\" : [\n",
        "        \"Hungry, I am\",\n",
        "        \"Learning Hugging Face, I am.\",\n",
        "        \"With you, may the Force be.\",\n",
        "        \"In the east, the sun rises.\",\n",
        "        \"For long walks on the beach, I have a liking.\",\n",
        "        \"The mouse around the house, the cat chased.\",\n",
        "        \"My passion and hobby, coding is.\",\n",
        "        \"On a rainy day, reading books I enjoy.\",\n",
        "        \"And go I must, the mountains are calling.\",\n",
        "        \"Full of possibilities, the world is.\",\n",
        "        \"In the night sky, the stars twinkle.\",\n",
        "        \"New places and cultures, I love to explore.\",\n",
        "        \"The language of the soul, music is.\",\n",
        "        \"A journey, life is, not a destination.\",\n",
        "        \"In the simplest things, happiness can be found.\",\n",
        "        \"The worm, the early bird catches.\",\n",
        "        \"When you're having fun, time flies.\",\n",
        "        \"The best medicine, laughter is.\",\n",
        "        \"Dream big and never give up, you must.\",\n",
        "        \"In the beauty of their dreams, those who believe, the future belongs.\",\n",
        "        \"Hard work and perseverance, a result of success is.\"\n",
        "    ]\n",
        "}\n",
        "\n",
        "testing = {\n",
        "    \"natural_sentences\" : [\n",
        "        \"I love exploring nature.\",\n",
        "        \"The moonlight shone through the trees.\",\n",
        "        \"Time spent with loved ones is precious.\",\n",
        "        \"The smell of freshly baked bread is delightful.\",\n",
        "        \"Walking barefoot on the grass feels amazing.\",\n",
        "    ],\n",
        "    \"yoda_translations\" : [\n",
        "        \"Exploring nature, I love.\",\n",
        "        \"Through the trees, the moonlight shone.\",\n",
        "        \"Precious, time spent with loved ones is.\",\n",
        "        \"Delightful, the smell of freshly baked bread is.\",\n",
        "        \"Amazing, walking barefoot on the grass feels.\",\n",
        "    ]\n",
        "}\n"
      ],
      "metadata": {
        "id": "ZrLZ9vYoUmL7"
      },
      "execution_count": 7,
      "outputs": []
    },
    {
      "cell_type": "code",
      "source": [
        "import spacy\n",
        " \n",
        " \n",
        "punctuation = [',', '.', ';', '?']\n",
        "nlp = spacy.load(\"en_core_web_sm\")\n",
        "comma = nlp('Yoda, this is')[1]\n",
        " \n",
        " \n",
        "def sentify(text):\n",
        "    output = []\n",
        "    doc = nlp(text)\n",
        "    for sent in doc.sents:\n",
        "        sentence = []\n",
        "        for clause in clausify(sent):\n",
        "            sentence.append(yodafy(clause))\n",
        "        output.append(sentence)\n",
        "    return output\n",
        " \n",
        " \n",
        "def clausify(sent):\n",
        "    output = []\n",
        "    cur = []\n",
        "    for token in sent:\n",
        "        if token.dep_ == 'cc' or (token.dep_ == 'punct' and token.text in punctuation):\n",
        "            output.append(cur)\n",
        "            output.append([token])\n",
        "            cur = []\n",
        "        else:\n",
        "            cur.append(token)\n",
        "    if cur:\n",
        "        output.append(cur)\n",
        "    return output\n",
        " \n",
        " \n",
        "def yodafy(clause):\n",
        "    new_array = []\n",
        "    state = False\n",
        "    for token in clause:\n",
        "        if state:\n",
        "            new_array.append(token)\n",
        "        if not state and (token.dep_ == \"ROOT\" or token.dep_ == \"aux\"):\n",
        "            state = True\n",
        "    if new_array and new_array[-1].dep_ != 'punct':\n",
        "        new_array.append(comma)\n",
        "    for token in clause:\n",
        "        new_array.append(token)\n",
        "        if token.dep_ == \"ROOT\" or token.dep_ == \"aux\":\n",
        "            break\n",
        "    return new_array\n",
        " \n",
        " \n",
        "def yoda(string_):\n",
        "    string = []\n",
        "    yodafied = sentify(string_)\n",
        "    for sentence in yodafied:\n",
        "        sentence_ = \"\"\n",
        "        for clause in sentence:\n",
        "            for token in clause:\n",
        "                if token.dep_ == 'NNP' or token.dep_ == 'NNPS' or token.text == 'I':\n",
        "                    sentence_ += token.text + \" \"\n",
        "                elif not sentence_ and token.dep_ == 'neg':\n",
        "                    sentence_ += \"Not\" + \" \"\n",
        "                elif not sentence_:\n",
        "                    sentence_ += token.text[0].upper() + token.text[1:] + \" \"\n",
        "                elif token.dep_ == 'punct':\n",
        "                    sentence_ = sentence_[:-1] + token.text + \" \"\n",
        "                else:\n",
        "                    sentence_ += token.text.lower() + \" \"\n",
        "        string.append(sentence_ + \" \")\n",
        "    return \"\".join(string)"
      ],
      "metadata": {
        "id": "jVWK152vz7ge"
      },
      "execution_count": 8,
      "outputs": []
    },
    {
      "cell_type": "code",
      "source": [
        "import jsonlines\n",
        "sentences = []\n",
        "# Open the JSONL file in read mode\n",
        "with jsonlines.open('sentences.jsonl', 'r') as reader:\n",
        "    # Iterate over each line in the JSONL file\n",
        "    count = 0;\n",
        "    for line in reader:\n",
        "        # Access the content of each line (JSON object)\n",
        "        data = line\n",
        "\n",
        "        # Process the data as needed\n",
        "        # Example: Print the data\n",
        "\n",
        "        # print(data[\"knowledge\"][\"sentence\"])\n",
        "        if(len(data[\"knowledge\"][\"sentence\"]) < 40):\n",
        "          count += 1;\n",
        "          print(count)\n",
        "          sentences.append(data[\"knowledge\"][\"sentence\"])\n",
        "        # break"
      ],
      "metadata": {
        "id": "TpYfvW630Ga0"
      },
      "execution_count": null,
      "outputs": []
    },
    {
      "cell_type": "code",
      "source": [
        "simple_sentences = [\n",
        "    \"I like to read books.\",\n",
        "    \"The sun is shining today.\",\n",
        "    \"She walked to the store.\",\n",
        "    \"He plays the guitar.\",\n",
        "    \"We went for a walk in the park.\",\n",
        "    \"They are watching a movie.\",\n",
        "    \"The cat is sleeping.\",\n",
        "    \"I enjoy cooking dinner.\",\n",
        "    \"She runs every morning.\",\n",
        "    \"He is studying for the exam.\",\n",
        "    \"We visited the museum.\",\n",
        "    \"They play soccer on weekends.\",\n",
        "    \"The dog is barking loudly.\",\n",
        "    \"I want to learn a new language.\",\n",
        "    \"She sings beautifully.\",\n",
        "    \"He loves to swim in the ocean.\",\n",
        "    \"We had a delicious dinner.\",\n",
        "    \"They went on a road trip.\",\n",
        "    \"The bird is flying in the sky.\",\n",
        "    \"I enjoy listening to music.\",\n",
        "    \"She likes to dance.\",\n",
        "    \"He is writing a book.\",\n",
        "    \"We planted flowers in the garden.\",\n",
        "    \"They are having a picnic.\",\n",
        "    \"The rain is falling gently.\",\n",
        "    \"I want to travel the world.\",\n",
        "    \"She plays the piano.\",\n",
        "    \"He enjoys playing video games.\",\n",
        "    \"We watched a movie at home.\",\n",
        "    \"They went hiking in the mountains.\",\n",
        "    \"The car is parked in the driveway.\",\n",
        "    \"I like to drink coffee in the morning.\",\n",
        "    \"She studies hard for her exams.\",\n",
        "    \"He is a talented artist.\",\n",
        "    \"We had a great time at the party.\",\n",
        "    \"They love to explore new places.\",\n",
        "    \"The baby is sleeping peacefully.\",\n",
        "    \"I enjoy going for long walks.\",\n",
        "    \"She cooks delicious meals.\",\n",
        "    \"He plays basketball with his friends.\",\n",
        "    \"We visited the beach on a sunny day.\",\n",
        "    \"They are reading books in the library.\",\n",
        "    \"The flowers are blooming in the garden.\",\n",
        "    \"I want to learn how to play the guitar.\",\n",
        "    \"She sings in a choir.\",\n",
        "    \"He likes to go fishing.\",\n",
        "    \"We had a barbecue in the backyard.\",\n",
        "    \"They went camping in the forest.\",\n",
        "    \"The train is arriving at the station.\",\n",
        "    \"I like to take photos.\",\n",
        "    \"She practices yoga every morning.\",\n",
        "    \"He is learning to code.\",\n",
        "    \"We watched a beautiful sunset.\",\n",
        "    \"They are playing board games.\",\n",
        "    \"The moon is shining brightly.\",\n",
        "    \"I want to try new recipes.\",\n",
        "    \"She enjoys painting.\",\n",
        "    \"He loves to play with his dog.\",\n",
        "    \"We had a family gathering.\",\n",
        "    \"They went to a concert.\",\n",
        "    \"The city is busy with traffic.\",\n",
        "    \"I like to go for bike rides.\",\n",
        "    \"She volunteers at a local shelter.\",\n",
        "    \"He is a dedicated teacher.\",\n",
        "    \"We had a picnic by the lake.\",\n",
        "    \"They love to go on adventures.\",\n",
        "    \"The stars are twinkling in the night sky.\",\n",
        "    \"I want to improve my photography skills.\",\n",
        "    \"She enjoys hiking in nature.\",\n",
        "    \"He likes to play chess.\",\n",
        "    \"We had a barbecue at the park.\",\n",
        "    \"They went on a road trip to the mountains.\",\n",
        "    \"The plane is taking off from the airport.\",\n",
        "    \"I like to bake cookies.\",\n",
        "    \"She practices meditation.\",\n",
        "    \"He is training for a marathon.\",\n",
        "    \"We watched a fireworks display.\",\n",
        "    \"They are playing soccer in the field.\",\n",
        "    \"The river is flowing peacefully.\",\n",
        "    \"I want to learn how to dance salsa.\",\n",
        "    \"She sings in a band.\",\n",
        "    \"He enjoys playing golf.\",\n",
        "    \"We had a game night with friends.\",\n",
        "    \"They went on a cruise vacation.\",\n",
        "    \"The wind is blowing through the trees.\",\n",
        "    \"I like to write poetry.\",\n",
        "    \"She volunteers at a local hospital.\",\n",
        "    \"He is a talented musician.\",\n",
        "    \"We had a barbecue at the beach.\",\n",
        "    \"They love to go on road trips.\",\n",
        "    \"The city is bustling with activity.\"\n",
        "]\n"
      ],
      "metadata": {
        "id": "s8iy9rk8uWq1"
      },
      "execution_count": 11,
      "outputs": []
    },
    {
      "cell_type": "code",
      "source": [
        "for i in range(len(sentences)):\n",
        "  trans = yoda(sentences[i])\n",
        "  if(trans != sentences[i]) :\n",
        "    training[\"natural_sentences\"].append(sentences[i]);\n",
        "    training[\"yoda_translations\"].append(trans)"
      ],
      "metadata": {
        "id": "3PgjoMgEvbtr"
      },
      "execution_count": 12,
      "outputs": []
    },
    {
      "cell_type": "code",
      "source": [
        "for i in range(len(simple_sentences)):\n",
        "  trans = yoda(simple_sentences[i])\n",
        "  if(trans != simple_sentences[i]) :\n",
        "    testing[\"natural_sentences\"].append(simple_sentences[i]);\n",
        "    testing[\"yoda_translations\"].append(trans)"
      ],
      "metadata": {
        "id": "AgcU1cdU0AFW"
      },
      "execution_count": 13,
      "outputs": []
    },
    {
      "cell_type": "code",
      "source": [
        "from transformers import T5Tokenizer, T5ForConditionalGeneration, Seq2SeqTrainer, Seq2SeqTrainingArguments\n",
        "from torch.utils.data import Dataset\n",
        "\n",
        "class CustomDataset(Dataset):\n",
        "    def __init__(self, data, prefix = \"\"):\n",
        "        self.data = data\n",
        "        self.tokenizer = tokenizer\n",
        "        self.prefix = prefix\n",
        "\n",
        "    def __len__(self):\n",
        "        return len(self.data[\"natural_sentences\"])\n",
        "\n",
        "    def __getitem__(self, index):\n",
        "        input_text = self.prefix + self.data[\"natural_sentences\"][index]\n",
        "        target_text = self.data[\"yoda_translations\"][index]\n",
        "\n",
        "        inputs = self.tokenizer.encode_plus(\n",
        "            input_text,\n",
        "            padding=\"longest\",\n",
        "            truncation=True,\n",
        "            return_tensors=\"pt\"\n",
        "        )\n",
        "        targets = self.tokenizer.encode_plus(\n",
        "            target_text,\n",
        "            padding=\"longest\",\n",
        "            truncation=True,\n",
        "            return_tensors=\"pt\"\n",
        "        )\n",
        "\n",
        "        return {\n",
        "            \"input_ids\": inputs.input_ids.squeeze(),\n",
        "            \"attention_mask\": inputs.attention_mask.squeeze(),\n",
        "            \"labels\": targets.input_ids.squeeze(),\n",
        "        }\n",
        "\n",
        "\n",
        "\n",
        "\n",
        "# Create the training dataset\n",
        "train_dataset = CustomDataset(training, prefix)\n",
        "\n",
        "# Create the evaluation dataset\n",
        "eval_dataset = CustomDataset(testing, prefix)"
      ],
      "metadata": {
        "id": "dywzI5gldoDc"
      },
      "execution_count": 14,
      "outputs": []
    },
    {
      "cell_type": "code",
      "source": [
        "# print(train_dataset[0][\"input_ids\"])\n",
        "print(tokenizer.decode(train_dataset[0][\"input_ids\"], skip_special_tokens=True))"
      ],
      "metadata": {
        "colab": {
          "base_uri": "https://localhost:8080/"
        },
        "id": "Kze_6E78dwlZ",
        "outputId": "f4874677-cdd6-49ac-a16c-491273243f62"
      },
      "execution_count": 15,
      "outputs": [
        {
          "output_type": "stream",
          "name": "stdout",
          "text": [
            "Reverse this sentence as if yoda from star wars was speaking : I am hungry\n"
          ]
        }
      ]
    },
    {
      "cell_type": "code",
      "source": [
        "from transformers import AutoModelForSeq2SeqLM, DataCollatorForSeq2Seq, Seq2SeqTrainingArguments, Seq2SeqTrainer"
      ],
      "metadata": {
        "id": "6g4abazbRFBp"
      },
      "execution_count": 16,
      "outputs": []
    },
    {
      "cell_type": "code",
      "source": [
        "# !pip install --upgrade accelerate"
      ],
      "metadata": {
        "id": "1PPdGb62RtYP"
      },
      "execution_count": 17,
      "outputs": []
    },
    {
      "cell_type": "code",
      "source": [
        "# !pip uninstall -y transformers accelerate\n",
        "# !pip install transformers==4.28.0 accelerate"
      ],
      "metadata": {
        "id": "5zHDlxaSSIYM"
      },
      "execution_count": 18,
      "outputs": []
    },
    {
      "cell_type": "code",
      "source": [
        "training_args = Seq2SeqTrainingArguments(\n",
        "    output_dir='./output',\n",
        "    num_train_epochs=5,\n",
        "    per_device_train_batch_size=8,\n",
        "    per_device_eval_batch_size=8,\n",
        "    warmup_steps=500,\n",
        "    weight_decay=0.01,\n",
        "    logging_dir='./logs',\n",
        "    logging_steps=100,\n",
        "    evaluation_strategy='steps',\n",
        "    eval_steps=500,\n",
        "    save_strategy='steps',\n",
        "    save_steps=500,\n",
        "    learning_rate=1e-4,\n",
        "    overwrite_output_dir=True,\n",
        "    predict_with_generate=True,\n",
        "   \n",
        "    load_best_model_at_end=True,\n",
        "    metric_for_best_model=\"rouge1\",\n",
        "    report_to=\"tensorboard\"\n",
        ")"
      ],
      "metadata": {
        "id": "62dSAQifQ_Jz"
      },
      "execution_count": 19,
      "outputs": []
    },
    {
      "cell_type": "code",
      "source": [
        "data_collator = DataCollatorForSeq2Seq(tokenizer)"
      ],
      "metadata": {
        "id": "7fwdhj20S0hj"
      },
      "execution_count": 20,
      "outputs": []
    },
    {
      "cell_type": "code",
      "source": [
        "import transformers\n",
        "from datasets import load_dataset, load_metric"
      ],
      "metadata": {
        "id": "ZquJ8L3rTI_j"
      },
      "execution_count": 21,
      "outputs": []
    },
    {
      "cell_type": "code",
      "source": [
        "import nltk\n",
        "nltk.download(\"punkt\")"
      ],
      "metadata": {
        "colab": {
          "base_uri": "https://localhost:8080/"
        },
        "id": "2E-P4sv04Z6P",
        "outputId": "761635a6-aa7e-48da-c96d-158193d3560a"
      },
      "execution_count": 22,
      "outputs": [
        {
          "output_type": "stream",
          "name": "stderr",
          "text": [
            "[nltk_data] Downloading package punkt to /root/nltk_data...\n",
            "[nltk_data]   Unzipping tokenizers/punkt.zip.\n"
          ]
        },
        {
          "output_type": "execute_result",
          "data": {
            "text/plain": [
              "True"
            ]
          },
          "metadata": {},
          "execution_count": 22
        }
      ]
    },
    {
      "cell_type": "code",
      "source": [
        "import numpy as np\n",
        "\n",
        "metric = load_metric(\"rouge\")\n",
        "\n",
        "def compute_metrics(eval_pred):\n",
        "    predictions, labels = eval_pred\n",
        "    decoded_preds = tokenizer.batch_decode(predictions, skip_special_tokens=True)\n",
        "    \n",
        "    # Replace -100 in the labels as we can't decode them.\n",
        "    labels = np.where(labels != -100, labels, tokenizer.pad_token_id)\n",
        "    decoded_labels = tokenizer.batch_decode(labels, skip_special_tokens=True)\n",
        "    \n",
        "    # Rouge expects a newline after each sentence\n",
        "    decoded_preds = [\"\\n\".join(nltk.sent_tokenize(pred.strip()))\n",
        "                      for pred in decoded_preds]\n",
        "    decoded_labels = [\"\\n\".join(nltk.sent_tokenize(label.strip())) \n",
        "                      for label in decoded_labels]\n",
        "    \n",
        "    # Compute ROUGE scores\n",
        "    result = metric.compute(predictions=decoded_preds, references=decoded_labels,\n",
        "                            use_stemmer=True)\n",
        "\n",
        "    # Extract ROUGE f1 scores\n",
        "    result = {key: value.mid.fmeasure * 100 for key, value in result.items()}\n",
        "    \n",
        "    # Add mean generated length to metrics\n",
        "    prediction_lens = [np.count_nonzero(pred != tokenizer.pad_token_id)\n",
        "                      for pred in predictions]\n",
        "    result[\"gen_len\"] = np.mean(prediction_lens)\n",
        "    \n",
        "    return {k: round(v, 4) for k, v in result.items()}"
      ],
      "metadata": {
        "colab": {
          "base_uri": "https://localhost:8080/",
          "height": 104,
          "referenced_widgets": [
            "4406d174353f4aacb1c1d66917767c8d",
            "510a81239ed84868a42c4d2c37691d13",
            "c2296599a2fc466d97ebee8f4a523864",
            "88444d64072d40fba097742e5d2f2bdb",
            "8720aa06ebf4448397ad29c8968d45bf",
            "0dd087850171470e874430c3f43a6d13",
            "e87accd9af3f43de9b95056d9b5c824b",
            "3b23d76cb2b04d9593f66f041d43c332",
            "8483a79361b24235a4e55a59b43434ea",
            "ff4a6155531c492abe551c58e4afc0bf",
            "97877338c9844a02998f8d8901bb53ff"
          ]
        },
        "id": "4RO0OkBETEC6",
        "outputId": "15c0a669-4504-4653-b697-9296b65dec78"
      },
      "execution_count": 23,
      "outputs": [
        {
          "output_type": "stream",
          "name": "stderr",
          "text": [
            "<ipython-input-23-7023104b68e9>:3: FutureWarning: load_metric is deprecated and will be removed in the next major version of datasets. Use 'evaluate.load' instead, from the new library 🤗 Evaluate: https://huggingface.co/docs/evaluate\n",
            "  metric = load_metric(\"rouge\")\n"
          ]
        },
        {
          "output_type": "display_data",
          "data": {
            "text/plain": [
              "Downloading builder script:   0%|          | 0.00/2.17k [00:00<?, ?B/s]"
            ],
            "application/vnd.jupyter.widget-view+json": {
              "version_major": 2,
              "version_minor": 0,
              "model_id": "4406d174353f4aacb1c1d66917767c8d"
            }
          },
          "metadata": {}
        }
      ]
    },
    {
      "cell_type": "code",
      "source": [
        "# def model_init():\n",
        "#     return AutoModelForSeq2SeqLM.from_pretrained(\"t5-base\")\n",
        "\n",
        "data_collator = DataCollatorForSeq2Seq(tokenizer, model=model)\n",
        "\n",
        "trainer = Seq2SeqTrainer(\n",
        "    model=model,\n",
        "    args=training_args,\n",
        "    train_dataset=train_dataset,\n",
        "    eval_dataset=eval_dataset,\n",
        "    data_collator=data_collator,\n",
        "    tokenizer=tokenizer,\n",
        "    compute_metrics=compute_metrics\n",
        ")"
      ],
      "metadata": {
        "id": "TKAUZsN_Ts_u"
      },
      "execution_count": 24,
      "outputs": []
    },
    {
      "cell_type": "code",
      "source": [
        "# trainer.train()"
      ],
      "metadata": {
        "id": "uwrpt4gUV2w8"
      },
      "execution_count": 25,
      "outputs": []
    },
    {
      "cell_type": "code",
      "source": [
        "# trainer.save_model('./drive/MyDrive/Collabs/yoda-t5')\n"
      ],
      "metadata": {
        "id": "w1KljfKyShgp"
      },
      "execution_count": 26,
      "outputs": []
    },
    {
      "cell_type": "code",
      "source": [
        "modelName = \"./drive/MyDrive/Collabs/yoda-t5\"\n",
        "# modelName = \"bert-large-uncased\"\n",
        "tokenizer = AutoTokenizer.from_pretrained(modelName)\n",
        "model = AutoModelForSeq2SeqLM.from_pretrained(modelName)\n"
      ],
      "metadata": {
        "id": "YL6HU5VbSqeN"
      },
      "execution_count": 42,
      "outputs": []
    },
    {
      "cell_type": "code",
      "source": [
        "text = \"Donald Trump, the 45th President of the United States, is a polarizing figure who has left an indelible mark on American politics. Known for his larger-than-life personality, Trump's presidency was characterized by controversial policies, fiery rhetoric, and a penchant for unconventional communication through social media.\\n\\nDuring his time in office, Trump pursued an \\\"America First\\\" agenda, aiming to prioritize the interests of the United States in areas such as trade, immigration, and foreign policy. His administration implemented significant tax cuts, deregulation measures, and pursued a more assertive stance on international trade agreements.\\n\\nTrump's approach to governance often drew both fervent support and vehement opposition. Supporters praised his efforts to revitalize the economy, prioritize national security, and challenge traditional political norms. Critics, on the other hand, raised concerns about his handling of sensitive issues, including immigration, climate change, and racial tensions.\\n\\nBeyond policy, Trump's leadership style and unfiltered communication drew considerable attention. His prolific use of Twitter became a defining characteristic of his presidency, allowing him to directly communicate with his base and express his thoughts, often generating controversy and media frenzy.\\n\\nTrump's presidency was not without challenges and controversies, including investigations into Russian interference in the 2016 election and subsequent impeachment proceedings. These events further deepened the divisions within the country and fueled passionate debates about the state of democracy and the role of the presidency.\\n\\nLove him or hate him, Donald Trump's impact on American politics and public discourse cannot be denied. His presidency left a lasting impression on the nation and continues to shape the political landscape as the United States moves forward.\"\n"
      ],
      "metadata": {
        "id": "qQYDOR_GEdi2"
      },
      "execution_count": 43,
      "outputs": []
    },
    {
      "cell_type": "markdown",
      "source": [],
      "metadata": {
        "id": "P8zvwUAruYPc"
      }
    },
    {
      "cell_type": "code",
      "source": [
        "print(translate_to_yoda(text, prefix, model));\n",
        "print(\" \")\n",
        "# translate_to_yoda(text, prefix2, model);"
      ],
      "metadata": {
        "colab": {
          "base_uri": "https://localhost:8080/"
        },
        "id": "fWMaFfl1FfZA",
        "outputId": "41a67279-dbbc-4346-d938-6c47e47f9036"
      },
      "execution_count": 44,
      "outputs": [
        {
          "output_type": "stream",
          "name": "stdout",
          "text": [
            "Donald Trump, the 45th President of the united states, is a polarizing figure who has left an indelible mark on american politics.\n",
            " \n"
          ]
        }
      ]
    },
    {
      "cell_type": "code",
      "source": [
        "print(translate_to_yoda(text, prefix2, model));\n",
        "print(\" \")\n",
        "# translate_to_yoda(text, prefix2, model);"
      ],
      "metadata": {
        "colab": {
          "base_uri": "https://localhost:8080/"
        },
        "id": "BDOEpFVisQhS",
        "outputId": "d62b35a4-13ed-4e06-9c7e-d9e7bfb37153"
      },
      "execution_count": 34,
      "outputs": [
        {
          "output_type": "stream",
          "name": "stdout",
          "text": [
            "Donald Trump, the 45th President of the united states, is a polarizing figure who has left an indelible mark on american politics and public discourse.\n",
            " \n"
          ]
        }
      ]
    },
    {
      "cell_type": "code",
      "source": [
        "translate_to_yoda(text, \"summarize\", model)"
      ],
      "metadata": {
        "id": "9HHqapr9FmMJ"
      },
      "execution_count": null,
      "outputs": []
    },
    {
      "cell_type": "code",
      "source": [],
      "metadata": {
        "id": "7RebSBvdZWCg"
      },
      "execution_count": null,
      "outputs": []
    },
    {
      "cell_type": "code",
      "source": [
        "from google.colab import drive\n",
        "drive.mount('/content/drive')"
      ],
      "metadata": {
        "colab": {
          "base_uri": "https://localhost:8080/"
        },
        "id": "6O5C-OXaa6ab",
        "outputId": "7ed981c2-dcee-4b9d-b513-0e33886ad4e9"
      },
      "execution_count": 28,
      "outputs": [
        {
          "output_type": "stream",
          "name": "stdout",
          "text": [
            "Mounted at /content/drive\n"
          ]
        }
      ]
    },
    {
      "cell_type": "code",
      "source": [
        "predicted = []\n",
        "for i in range(len(testing[\"yoda_translations\"])):\n",
        "    sentence = testing[\"natural_sentences\"][i]\n",
        "    translated = translate_to_yoda(sentence, prefix, model)\n",
        "    print(i)\n",
        "    print(sentence)\n",
        "    print(translated)\n",
        "    predicted.append(translated)"
      ],
      "metadata": {
        "id": "peVeSidAa6on"
      },
      "execution_count": null,
      "outputs": []
    },
    {
      "cell_type": "code",
      "source": [
        "predicted_pegasus = predicted"
      ],
      "metadata": {
        "id": "GyOqNE_4x94G"
      },
      "execution_count": null,
      "outputs": []
    },
    {
      "cell_type": "code",
      "source": [
        "predicted_t5 = predicted"
      ],
      "metadata": {
        "id": "C0BdJ_isp7HQ"
      },
      "execution_count": null,
      "outputs": []
    },
    {
      "cell_type": "code",
      "source": [
        "print(testing[\"natural_sentences\"][6])"
      ],
      "metadata": {
        "id": "4nQPQxenzfiJ"
      },
      "execution_count": null,
      "outputs": []
    },
    {
      "cell_type": "code",
      "source": [
        "!pip install sacrebleu"
      ],
      "metadata": {
        "id": "sLpiEfiSkqm0"
      },
      "execution_count": null,
      "outputs": []
    },
    {
      "cell_type": "code",
      "source": [
        "from datasets import load_metric\n",
        "sacrebleu = load_metric(\"sacrebleu\")\n",
        "# SacreBLEU operates on raw text, not tokens\n",
        "predictions = [\"Hungry, I am\"]\n",
        "references = [[\"Hungry, I am\"]]\n",
        "sacrebleu.compute(predictions=predictions, references=references)"
      ],
      "metadata": {
        "id": "g_kAjSJMkspy"
      },
      "execution_count": null,
      "outputs": []
    },
    {
      "cell_type": "code",
      "source": [
        "sum = 0;\n",
        "perfectCount = 0\n",
        "for i in range(len(testing[\"yoda_translations\"])):\n",
        "    reference = testing[\"yoda_translations\"][i]\n",
        "    prediction = predicted[i]\n",
        "    score = sacrebleu.compute(predictions=[prediction], references=[[reference]])[\"score\"]\n",
        "    sum += score\n",
        "    if(score >= 100):\n",
        "      perfectCount +=1;\n",
        "    print(i)\n",
        "    print(reference)\n",
        "    print(prediction)\n",
        "    print(predicted_pegasus[i])\n",
        "\n",
        "    print(score)\n",
        "    print(\" \")\n",
        "\n",
        "average = sum/ len(testing[\"yoda_translations\"]);\n",
        "print(\"Average bleu score\")\n",
        "print(average)\n",
        "print(\"Perfect predictions\")\n",
        "print(perfectCount/ len(testing[\"yoda_translations\"]))"
      ],
      "metadata": {
        "id": "KiNbNTP3lUXs"
      },
      "execution_count": null,
      "outputs": []
    },
    {
      "cell_type": "code",
      "source": [
        "def computeBleuScore(predictions, references):\n",
        "  sum = 0;\n",
        "  perfectCount = 0\n",
        "  length = len(references)\n",
        "  bleuScores = [];\n",
        "  for i in range(length):\n",
        "        reference = references[i]\n",
        "        prediction = predictions[i]\n",
        "        score = sacrebleu.compute(predictions=[prediction], references=[[reference]])[\"score\"]\n",
        "        bleuScores.append(score)\n",
        "        sum += score\n",
        "        if(score >= 100):\n",
        "          perfectCount +=1;\n",
        "        # print(i)\n",
        "        # print(reference)\n",
        "        # print(prediction)\n",
        "\n",
        "        # print(score)\n",
        "        # print(\" \")\n",
        "\n",
        "  average = sum/ length;\n",
        "  perfectPercentage = perfectCount/length\n",
        "  return average, bleuScores, perfectPercentage"
      ],
      "metadata": {
        "id": "fs9KWbZtrIXY"
      },
      "execution_count": null,
      "outputs": []
    },
    {
      "cell_type": "code",
      "source": [
        "averagePegasus, bleuScoresPegasus, perfectPercentagePegasus = computeBleuScore(predicted_pegasus,testing[\"yoda_translations\"] )\n",
        "print(averagePegasus);\n",
        "print(perfectPercentagePegasus);\n",
        "averaget5, bleuScorest5, perfectPercentage5t = computeBleuScore(predicted_t5,testing[\"yoda_translations\"] )\n",
        "print(averaget5);\n",
        "print(perfectPercentage5t);"
      ],
      "metadata": {
        "id": "LwXAqy32r3zD"
      },
      "execution_count": null,
      "outputs": []
    },
    {
      "cell_type": "code",
      "source": [
        "import matplotlib.pyplot as plt\n",
        "\n",
        "fig, ax = plt.subplots()\n",
        "ax.boxplot([bleuScoresPegasus, bleuScorest5])\n",
        "ax.set_xticklabels([\"pegasus\", \"t5\"])\n",
        "ax.set_title('Bleu Score')\n",
        "\n",
        "plt.show()"
      ],
      "metadata": {
        "id": "Z0l0AwSLse0O"
      },
      "execution_count": null,
      "outputs": []
    },
    {
      "cell_type": "code",
      "source": [
        "!pip install rouge"
      ],
      "metadata": {
        "id": "OM-uA3L3wpUd"
      },
      "execution_count": null,
      "outputs": []
    },
    {
      "cell_type": "code",
      "source": [
        "\n",
        "from rouge import Rouge\n",
        "# Example reference and hypothesis sentences\n",
        "reference = \"I am hungry\"\n",
        "hypothesis = \"Hungry, I am\"\n",
        "\n",
        "# Initialize Rouge object\n",
        "rouge = Rouge()\n",
        "\n",
        "# Compute ROUGE-L\n",
        "scores = rouge.get_scores(hypothesis, reference)\n",
        "print(scores)\n",
        "rouge_l_score = scores[0]['rouge-l']['f']\n",
        "\n",
        "# Print ROUGE-L score\n",
        "print(\"ROUGE-L score:\", rouge_l_score)"
      ],
      "metadata": {
        "id": "zo2ZPNcYw7Vk"
      },
      "execution_count": null,
      "outputs": []
    },
    {
      "cell_type": "code",
      "source": [
        "def computeRougeScore(predictions, references):\n",
        "  sum = 0;\n",
        "  perfectCount = 0\n",
        "  length = len(references)\n",
        "  rougeScores = {\n",
        "      'r':[],\n",
        "      'p':[],\n",
        "      'f':[]\n",
        "  };\n",
        "  for i in range(length):\n",
        "        reference = references[i]\n",
        "        prediction = predictions[i]\n",
        "        \n",
        "        scores = rouge.get_scores(prediction, reference)\n",
        "        rouge_l_score = scores[0]['rouge-l']\n",
        "        rougeScores['r'].append(rouge_l_score['r'])\n",
        "        rougeScores['p'].append(rouge_l_score['p'])\n",
        "        rougeScores['f'].append(rouge_l_score['f'])\n",
        "        sum += rouge_l_score[\"f\"]\n",
        "        # print(rouge_l_score)\n",
        "        if(rouge_l_score[\"f\"] >= 0.97):\n",
        "          perfectCount +=1;\n",
        "        print(i)\n",
        "        print(reference)\n",
        "        print(prediction)\n",
        "\n",
        "        print(rouge_l_score)\n",
        "        print(\" \")\n",
        "  average = sum/ length;\n",
        "  perfectPercentage = perfectCount/length\n",
        "  return average, rougeScores, perfectPercentage"
      ],
      "metadata": {
        "id": "ynxpPaQ4xbn1"
      },
      "execution_count": null,
      "outputs": []
    },
    {
      "cell_type": "code",
      "source": [
        "averageRougePegasus, rougeScoresPegasus, perfectPercentageRougePegasus = computeRougeScore(predicted_pegasus,testing[\"yoda_translations\"] )\n",
        "print(averageRougePegasus);\n",
        "print(perfectPercentageRougePegasus);\n",
        "averageRouget5, rougeScorest5, perfectPercentageRouge5t = computeRougeScore(predicted_t5,testing[\"yoda_translations\"] )\n",
        "print(averageRouget5);\n",
        "print(perfectPercentageRouge5t);"
      ],
      "metadata": {
        "id": "SfEz87KQxucL"
      },
      "execution_count": null,
      "outputs": []
    },
    {
      "cell_type": "code",
      "source": [
        "# import matplotlib.pyplot as plt\n",
        "\n",
        "# fig, ax = plt.subplots()\n",
        "# ax.boxplot([rougeScoresPegasus, rougeScorest5])\n",
        "# ax.set_xticklabels([\"pegasus\", \"t5\"])\n",
        "# ax.set_title('Rouge-L Score')\n",
        "\n",
        "# plt.show()\n",
        "\n",
        "import matplotlib.pyplot as plt\n",
        "\n",
        "fig, ax = plt.subplots(1, 3)\n",
        "ax[0].boxplot([rougeScoresPegasus['p'], rougeScorest5['p']])\n",
        "ax[0].set_xticklabels([\"yoda-pegasus\", \"yoda-t5\"])\n",
        "ax[0].set_title('Precision')\n",
        "ax[1].boxplot([rougeScoresPegasus['r'], rougeScorest5['r']])\n",
        "ax[1].set_xticklabels([\"yoda-pegasus\", \"yoda-t5\"])\n",
        "ax[1].set_title('Recall')\n",
        "ax[2].boxplot([rougeScoresPegasus['f'], rougeScorest5['f']])\n",
        "ax[2].set_xticklabels([\"yoda-pegasus\", \"yoda-t5\"])\n",
        "ax[2].set_title('F-measure')\n",
        "fig.suptitle(\"ROUGE-L scores\")\n",
        "fig.tight_layout(pad=2.5)\n",
        "fig.set_figwidth(10)\n",
        "\n",
        "plt.show()"
      ],
      "metadata": {
        "id": "XRn7Z9cgykCY"
      },
      "execution_count": null,
      "outputs": []
    }
  ]
}